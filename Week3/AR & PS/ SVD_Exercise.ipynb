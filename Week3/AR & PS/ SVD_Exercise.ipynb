{
  "nbformat": 4,
  "nbformat_minor": 0,
  "metadata": {
    "colab": {
      "provenance": []
    },
    "kernelspec": {
      "name": "python3",
      "display_name": "Python 3"
    },
    "language_info": {
      "name": "python"
    }
  },
  "cells": [
    {
      "cell_type": "markdown",
      "source": [
        "#**SVD**"
      ],
      "metadata": {
        "id": "0PzxgQHw9ccz"
      }
    },
    {
      "cell_type": "markdown",
      "source": [
        "#import libraries"
      ],
      "metadata": {
        "id": "luFPiQ2i9myX"
      }
    },
    {
      "cell_type": "code",
      "execution_count": 1,
      "metadata": {
        "id": "G-4zglvy9WkS"
      },
      "outputs": [],
      "source": [
        "import numpy as np"
      ]
    },
    {
      "cell_type": "markdown",
      "source": [
        "#Load the tabular dataset :\n",
        "\n",
        "dataset :\n",
        "\n",
        "\n",
        "    [1, 2, 1, 0, 4],\n",
        "\n",
        "    [2, 3, 4, 0, 2],\n",
        "\n",
        "    [3, 1, 1, 0, 5],\n",
        "\n",
        "    [4, 0, 2, 5, 0],\n",
        "\n",
        "    [5, 4, 0, 1, 2]\n"
      ],
      "metadata": {
        "id": "nZFDaio79sgu"
      }
    },
    {
      "cell_type": "code",
      "source": [
        "dataset = np.array([\n",
        "    [2, 1, 0, 4],\n",
        "    [3, 4, 0, 2],\n",
        "    [1, 1, 0, 5],\n",
        "    [0, 2, 5, 0],\n",
        "    [4, 0, 1, 2]\n",
        "])\n"
      ],
      "metadata": {
        "id": "MQ009CYG9qQS"
      },
      "execution_count": 2,
      "outputs": []
    },
    {
      "cell_type": "markdown",
      "source": [
        "#Perform Singular Value Decomposition (SVD)\n"
      ],
      "metadata": {
        "id": "2roOK1gZ9yQo"
      }
    },
    {
      "cell_type": "code",
      "source": [
        "U, s, VT = np.linalg.svd(dataset)"
      ],
      "metadata": {
        "id": "0I7M_W_E9vka"
      },
      "execution_count": 4,
      "outputs": []
    },
    {
      "cell_type": "markdown",
      "source": [
        "# Extract the singular values and vectors"
      ],
      "metadata": {
        "id": "5ygCLQNt96Vb"
      }
    },
    {
      "cell_type": "code",
      "source": [
        "singular_values = np.diag(s)\n",
        "left_singular_vectors = U\n",
        "right_singular_vectors = VT.T"
      ],
      "metadata": {
        "id": "d_hE13Sn94k5"
      },
      "execution_count": 7,
      "outputs": []
    },
    {
      "cell_type": "markdown",
      "source": [
        "# Perform dimensionality reduction by selecting top k singular values and vectors\n"
      ],
      "metadata": {
        "id": "piU0jgug9_gD"
      }
    },
    {
      "cell_type": "code",
      "source": [
        "k = 2\n",
        "reduced_dataset = np.dot(np.dot(left_singular_vectors[:, :k], singular_values[:k, :k]), right_singular_vectors[:, :k].T)"
      ],
      "metadata": {
        "id": "ONL6a70x6MWM"
      },
      "execution_count": 9,
      "outputs": []
    },
    {
      "cell_type": "markdown",
      "source": [
        "# Print the original and reduced datasets\n"
      ],
      "metadata": {
        "id": "4raXfdzz-Gex"
      }
    },
    {
      "cell_type": "code",
      "source": [
        "print('Original Dataset:')\n",
        "print(dataset)\n",
        "print('\\nReduced Dataset:')\n",
        "print(reduced_dataset)"
      ],
      "metadata": {
        "id": "c7YIIN3S-DTl",
        "colab": {
          "base_uri": "https://localhost:8080/"
        },
        "outputId": "b0fb405b-26af-4ac9-b68d-793ed8941ad9"
      },
      "execution_count": 10,
      "outputs": [
        {
          "output_type": "stream",
          "name": "stdout",
          "text": [
            "Original Dataset:\n",
            "[[2 1 0 4]\n",
            " [3 4 0 2]\n",
            " [1 1 0 5]\n",
            " [0 2 5 0]\n",
            " [4 0 1 2]]\n",
            "\n",
            "Reduced Dataset:\n",
            "[[ 2.42783083  1.34469234 -0.28088786  3.55528003]\n",
            " [ 2.48095375  2.03039214  1.21169626  3.19513057]\n",
            " [ 2.54437376  1.32108273 -0.49569821  3.78477327]\n",
            " [ 0.56412157  2.38529993  4.66847769 -0.55714942]\n",
            " [ 2.03649155  1.48065473  0.56987114  2.74683942]]\n"
          ]
        }
      ]
    },
    {
      "cell_type": "markdown",
      "source": [
        "#**Well done :)**"
      ],
      "metadata": {
        "id": "ASLB0yos-Ofm"
      }
    }
  ]
}
