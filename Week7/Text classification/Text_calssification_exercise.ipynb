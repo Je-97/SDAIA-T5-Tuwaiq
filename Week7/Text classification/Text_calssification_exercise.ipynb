{
  "cells": [
    {
      "cell_type": "markdown",
      "id": "1ad31a0f",
      "metadata": {
        "id": "1ad31a0f"
      },
      "source": [
        "# Text Classification with 20 Newsgroups Dataset using RNN and LSTM"
      ]
    },
    {
      "cell_type": "markdown",
      "id": "ebc80472",
      "metadata": {
        "id": "ebc80472"
      },
      "source": [
        "This notebook demonstrates how to perform text classification using both RNN and LSTM models on the 20 Newsgroups dataset."
      ]
    },
    {
      "cell_type": "markdown",
      "id": "db322b61",
      "metadata": {
        "id": "db322b61"
      },
      "source": [
        "### Step 1: Install TensorFlow"
      ]
    },
    {
      "cell_type": "code",
      "execution_count": 2,
      "id": "b8ec59a9",
      "metadata": {
        "id": "b8ec59a9"
      },
      "outputs": [],
      "source": [
        "%%capture\n",
        "!pip install tensorflow"
      ]
    },
    {
      "cell_type": "markdown",
      "id": "eab6d57e",
      "metadata": {
        "id": "eab6d57e"
      },
      "source": [
        "### Step 2: Import Libraries"
      ]
    },
    {
      "cell_type": "code",
      "execution_count": 3,
      "id": "a2cbd035",
      "metadata": {
        "id": "a2cbd035"
      },
      "outputs": [],
      "source": [
        "from sklearn.datasets import fetch_20newsgroups\n",
        "import numpy as np\n",
        "import tensorflow as tf\n",
        "from tensorflow.keras.preprocessing.text import Tokenizer\n",
        "from tensorflow.keras.preprocessing.sequence import pad_sequences\n",
        "from tensorflow.keras.models import Sequential\n",
        "from tensorflow.keras.layers import Embedding, SimpleRNN, LSTM, Dense\n",
        "from tensorflow.keras.utils import to_categorical\n",
        "from sklearn.model_selection import train_test_split\n",
        "import matplotlib.pyplot as plt"
      ]
    },
    {
      "cell_type": "markdown",
      "id": "09ada53d",
      "metadata": {
        "id": "09ada53d"
      },
      "source": [
        "### Step 3: Load and Preprocess the Dataset"
      ]
    },
    {
      "cell_type": "code",
      "execution_count": 4,
      "id": "3a87334b",
      "metadata": {
        "id": "3a87334b"
      },
      "outputs": [],
      "source": [
        "# Load the 20 Newsgroups dataset\n",
        "newsgroups = fetch_20newsgroups(subset='all', shuffle=True, random_state=42)\n",
        "\n",
        "# Preprocess the data\n",
        "tokenizer = Tokenizer(num_words=10000)\n",
        "tokenizer.fit_on_texts(newsgroups.data)\n",
        "sequences = tokenizer.texts_to_sequences(newsgroups.data)\n",
        "X = pad_sequences(sequences, maxlen=200)\n",
        "y = to_categorical(newsgroups.target)\n",
        "\n",
        "# Split the data into training and testing sets\n",
        "X_train, X_test, y_train, y_test = train_test_split(X, y, test_size=0.2, random_state=42)"
      ]
    },
    {
      "cell_type": "markdown",
      "id": "01298bbc",
      "metadata": {
        "id": "01298bbc"
      },
      "source": [
        "### Step 4: Build and Compile the RNN Model"
      ]
    },
    {
      "cell_type": "code",
      "source": [
        "# Build the RNN model\n",
        "rnn_model = Sequential()\n",
        "rnn_model.add(Embedding(input_dim=10000, output_dim=64, input_length=200))\n",
        "rnn_model.add(SimpleRNN(units=64, return_sequences=False))\n",
        "rnn_model.add(Dense(20, activation='softmax'))\n",
        "rnn_model.compile(optimizer='adam', loss='categorical_crossentropy', metrics=['accuracy'])\n",
        "sample_input = np.random.randint(10000, size=(1, 200))\n",
        "rnn_model(sample_input)\n",
        "rnn_model.summary()\n"
      ],
      "metadata": {
        "id": "z17wekUWLub_",
        "outputId": "b5f84fe7-1cd3-4c94-ad17-59699fe2ef4a",
        "colab": {
          "base_uri": "https://localhost:8080/",
          "height": 255
        }
      },
      "id": "z17wekUWLub_",
      "execution_count": 11,
      "outputs": [
        {
          "output_type": "display_data",
          "data": {
            "text/plain": [
              "\u001b[1mModel: \"sequential_5\"\u001b[0m\n"
            ],
            "text/html": [
              "<pre style=\"white-space:pre;overflow-x:auto;line-height:normal;font-family:Menlo,'DejaVu Sans Mono',consolas,'Courier New',monospace\"><span style=\"font-weight: bold\">Model: \"sequential_5\"</span>\n",
              "</pre>\n"
            ]
          },
          "metadata": {}
        },
        {
          "output_type": "display_data",
          "data": {
            "text/plain": [
              "┏━━━━━━━━━━━━━━━━━━━━━━━━━━━━━━━━━━━━━━┳━━━━━━━━━━━━━━━━━━━━━━━━━━━━━┳━━━━━━━━━━━━━━━━━┓\n",
              "┃\u001b[1m \u001b[0m\u001b[1mLayer (type)                        \u001b[0m\u001b[1m \u001b[0m┃\u001b[1m \u001b[0m\u001b[1mOutput Shape               \u001b[0m\u001b[1m \u001b[0m┃\u001b[1m \u001b[0m\u001b[1m        Param #\u001b[0m\u001b[1m \u001b[0m┃\n",
              "┡━━━━━━━━━━━━━━━━━━━━━━━━━━━━━━━━━━━━━━╇━━━━━━━━━━━━━━━━━━━━━━━━━━━━━╇━━━━━━━━━━━━━━━━━┩\n",
              "│ embedding_4 (\u001b[38;5;33mEmbedding\u001b[0m)              │ (\u001b[38;5;34m1\u001b[0m, \u001b[38;5;34m200\u001b[0m, \u001b[38;5;34m64\u001b[0m)                │         \u001b[38;5;34m640,000\u001b[0m │\n",
              "├──────────────────────────────────────┼─────────────────────────────┼─────────────────┤\n",
              "│ simple_rnn_4 (\u001b[38;5;33mSimpleRNN\u001b[0m)             │ (\u001b[38;5;34m1\u001b[0m, \u001b[38;5;34m64\u001b[0m)                     │           \u001b[38;5;34m8,256\u001b[0m │\n",
              "├──────────────────────────────────────┼─────────────────────────────┼─────────────────┤\n",
              "│ dense_4 (\u001b[38;5;33mDense\u001b[0m)                      │ (\u001b[38;5;34m1\u001b[0m, \u001b[38;5;34m20\u001b[0m)                     │           \u001b[38;5;34m1,300\u001b[0m │\n",
              "└──────────────────────────────────────┴─────────────────────────────┴─────────────────┘\n"
            ],
            "text/html": [
              "<pre style=\"white-space:pre;overflow-x:auto;line-height:normal;font-family:Menlo,'DejaVu Sans Mono',consolas,'Courier New',monospace\">┏━━━━━━━━━━━━━━━━━━━━━━━━━━━━━━━━━━━━━━┳━━━━━━━━━━━━━━━━━━━━━━━━━━━━━┳━━━━━━━━━━━━━━━━━┓\n",
              "┃<span style=\"font-weight: bold\"> Layer (type)                         </span>┃<span style=\"font-weight: bold\"> Output Shape                </span>┃<span style=\"font-weight: bold\">         Param # </span>┃\n",
              "┡━━━━━━━━━━━━━━━━━━━━━━━━━━━━━━━━━━━━━━╇━━━━━━━━━━━━━━━━━━━━━━━━━━━━━╇━━━━━━━━━━━━━━━━━┩\n",
              "│ embedding_4 (<span style=\"color: #0087ff; text-decoration-color: #0087ff\">Embedding</span>)              │ (<span style=\"color: #00af00; text-decoration-color: #00af00\">1</span>, <span style=\"color: #00af00; text-decoration-color: #00af00\">200</span>, <span style=\"color: #00af00; text-decoration-color: #00af00\">64</span>)                │         <span style=\"color: #00af00; text-decoration-color: #00af00\">640,000</span> │\n",
              "├──────────────────────────────────────┼─────────────────────────────┼─────────────────┤\n",
              "│ simple_rnn_4 (<span style=\"color: #0087ff; text-decoration-color: #0087ff\">SimpleRNN</span>)             │ (<span style=\"color: #00af00; text-decoration-color: #00af00\">1</span>, <span style=\"color: #00af00; text-decoration-color: #00af00\">64</span>)                     │           <span style=\"color: #00af00; text-decoration-color: #00af00\">8,256</span> │\n",
              "├──────────────────────────────────────┼─────────────────────────────┼─────────────────┤\n",
              "│ dense_4 (<span style=\"color: #0087ff; text-decoration-color: #0087ff\">Dense</span>)                      │ (<span style=\"color: #00af00; text-decoration-color: #00af00\">1</span>, <span style=\"color: #00af00; text-decoration-color: #00af00\">20</span>)                     │           <span style=\"color: #00af00; text-decoration-color: #00af00\">1,300</span> │\n",
              "└──────────────────────────────────────┴─────────────────────────────┴─────────────────┘\n",
              "</pre>\n"
            ]
          },
          "metadata": {}
        },
        {
          "output_type": "display_data",
          "data": {
            "text/plain": [
              "\u001b[1m Total params: \u001b[0m\u001b[38;5;34m649,556\u001b[0m (2.48 MB)\n"
            ],
            "text/html": [
              "<pre style=\"white-space:pre;overflow-x:auto;line-height:normal;font-family:Menlo,'DejaVu Sans Mono',consolas,'Courier New',monospace\"><span style=\"font-weight: bold\"> Total params: </span><span style=\"color: #00af00; text-decoration-color: #00af00\">649,556</span> (2.48 MB)\n",
              "</pre>\n"
            ]
          },
          "metadata": {}
        },
        {
          "output_type": "display_data",
          "data": {
            "text/plain": [
              "\u001b[1m Trainable params: \u001b[0m\u001b[38;5;34m649,556\u001b[0m (2.48 MB)\n"
            ],
            "text/html": [
              "<pre style=\"white-space:pre;overflow-x:auto;line-height:normal;font-family:Menlo,'DejaVu Sans Mono',consolas,'Courier New',monospace\"><span style=\"font-weight: bold\"> Trainable params: </span><span style=\"color: #00af00; text-decoration-color: #00af00\">649,556</span> (2.48 MB)\n",
              "</pre>\n"
            ]
          },
          "metadata": {}
        },
        {
          "output_type": "display_data",
          "data": {
            "text/plain": [
              "\u001b[1m Non-trainable params: \u001b[0m\u001b[38;5;34m0\u001b[0m (0.00 B)\n"
            ],
            "text/html": [
              "<pre style=\"white-space:pre;overflow-x:auto;line-height:normal;font-family:Menlo,'DejaVu Sans Mono',consolas,'Courier New',monospace\"><span style=\"font-weight: bold\"> Non-trainable params: </span><span style=\"color: #00af00; text-decoration-color: #00af00\">0</span> (0.00 B)\n",
              "</pre>\n"
            ]
          },
          "metadata": {}
        }
      ]
    },
    {
      "cell_type": "markdown",
      "id": "fed0ef0f",
      "metadata": {
        "id": "fed0ef0f"
      },
      "source": [
        "### Step 6: Train the RNN Model"
      ]
    },
    {
      "cell_type": "code",
      "execution_count": 12,
      "id": "22dd147c",
      "metadata": {
        "id": "22dd147c",
        "outputId": "2c80dfee-d7f7-41fc-86ea-75887ba64f4b",
        "colab": {
          "base_uri": "https://localhost:8080/"
        }
      },
      "outputs": [
        {
          "output_type": "stream",
          "name": "stdout",
          "text": [
            "Epoch 1/5\n",
            "\u001b[1m236/236\u001b[0m \u001b[32m━━━━━━━━━━━━━━━━━━━━\u001b[0m\u001b[37m\u001b[0m \u001b[1m21s\u001b[0m 83ms/step - accuracy: 0.1396 - loss: 2.8811 - val_accuracy: 0.2987 - val_loss: 2.3055\n",
            "Epoch 2/5\n",
            "\u001b[1m236/236\u001b[0m \u001b[32m━━━━━━━━━━━━━━━━━━━━\u001b[0m\u001b[37m\u001b[0m \u001b[1m17s\u001b[0m 68ms/step - accuracy: 0.5087 - loss: 1.9007 - val_accuracy: 0.4008 - val_loss: 1.9751\n",
            "Epoch 3/5\n",
            "\u001b[1m236/236\u001b[0m \u001b[32m━━━━━━━━━━━━━━━━━━━━\u001b[0m\u001b[37m\u001b[0m \u001b[1m19s\u001b[0m 83ms/step - accuracy: 0.7660 - loss: 1.0705 - val_accuracy: 0.4366 - val_loss: 1.9057\n",
            "Epoch 4/5\n",
            "\u001b[1m236/236\u001b[0m \u001b[32m━━━━━━━━━━━━━━━━━━━━\u001b[0m\u001b[37m\u001b[0m \u001b[1m23s\u001b[0m 94ms/step - accuracy: 0.9101 - loss: 0.5076 - val_accuracy: 0.4385 - val_loss: 2.0152\n",
            "Epoch 5/5\n",
            "\u001b[1m236/236\u001b[0m \u001b[32m━━━━━━━━━━━━━━━━━━━━\u001b[0m\u001b[37m\u001b[0m \u001b[1m16s\u001b[0m 70ms/step - accuracy: 0.9679 - loss: 0.2197 - val_accuracy: 0.4340 - val_loss: 2.1644\n"
          ]
        }
      ],
      "source": [
        "# Train the RNN model\n",
        "history_rnn = rnn_model.fit(X_train, y_train, epochs=5, batch_size=64, validation_data=(X_test, y_test))  # Small epochs"
      ]
    },
    {
      "cell_type": "code",
      "source": [
        "rnn_loss, rnn_acc = rnn_model.evaluate(X_test, y_test)\n",
        "print(f'RNN Test Accuracy: {rnn_acc:.4f}')"
      ],
      "metadata": {
        "id": "zqak7wKiIvNn",
        "outputId": "f1d35911-a74c-4e56-bbdb-1fd102867eca",
        "colab": {
          "base_uri": "https://localhost:8080/"
        }
      },
      "id": "zqak7wKiIvNn",
      "execution_count": 12,
      "outputs": [
        {
          "output_type": "stream",
          "name": "stdout",
          "text": [
            "\u001b[1m118/118\u001b[0m \u001b[32m━━━━━━━━━━━━━━━━━━━━\u001b[0m\u001b[37m\u001b[0m \u001b[1m2s\u001b[0m 13ms/step - accuracy: 0.4265 - loss: 2.1686\n",
            "RNN Test Accuracy: 0.4302\n"
          ]
        }
      ]
    },
    {
      "cell_type": "markdown",
      "id": "bc1e2a87",
      "metadata": {
        "id": "bc1e2a87"
      },
      "source": [
        "### Step 5: Build and Compile the LSTM Model"
      ]
    },
    {
      "cell_type": "code",
      "execution_count": 14,
      "id": "5c2553ec",
      "metadata": {
        "id": "5c2553ec",
        "outputId": "afccb98c-fa6b-4a39-ff2e-25f013df65af",
        "colab": {
          "base_uri": "https://localhost:8080/",
          "height": 310
        }
      },
      "outputs": [
        {
          "output_type": "stream",
          "name": "stderr",
          "text": [
            "/usr/local/lib/python3.10/dist-packages/keras/src/layers/core/embedding.py:90: UserWarning: Argument `input_length` is deprecated. Just remove it.\n",
            "  warnings.warn(\n"
          ]
        },
        {
          "output_type": "display_data",
          "data": {
            "text/plain": [
              "\u001b[1mModel: \"sequential_7\"\u001b[0m\n"
            ],
            "text/html": [
              "<pre style=\"white-space:pre;overflow-x:auto;line-height:normal;font-family:Menlo,'DejaVu Sans Mono',consolas,'Courier New',monospace\"><span style=\"font-weight: bold\">Model: \"sequential_7\"</span>\n",
              "</pre>\n"
            ]
          },
          "metadata": {}
        },
        {
          "output_type": "display_data",
          "data": {
            "text/plain": [
              "┏━━━━━━━━━━━━━━━━━━━━━━━━━━━━━━━━━━━━━━┳━━━━━━━━━━━━━━━━━━━━━━━━━━━━━┳━━━━━━━━━━━━━━━━━┓\n",
              "┃\u001b[1m \u001b[0m\u001b[1mLayer (type)                        \u001b[0m\u001b[1m \u001b[0m┃\u001b[1m \u001b[0m\u001b[1mOutput Shape               \u001b[0m\u001b[1m \u001b[0m┃\u001b[1m \u001b[0m\u001b[1m        Param #\u001b[0m\u001b[1m \u001b[0m┃\n",
              "┡━━━━━━━━━━━━━━━━━━━━━━━━━━━━━━━━━━━━━━╇━━━━━━━━━━━━━━━━━━━━━━━━━━━━━╇━━━━━━━━━━━━━━━━━┩\n",
              "│ embedding_6 (\u001b[38;5;33mEmbedding\u001b[0m)              │ (\u001b[38;5;34m1\u001b[0m, \u001b[38;5;34m200\u001b[0m, \u001b[38;5;34m64\u001b[0m)                │         \u001b[38;5;34m640,000\u001b[0m │\n",
              "├──────────────────────────────────────┼─────────────────────────────┼─────────────────┤\n",
              "│ lstm_1 (\u001b[38;5;33mLSTM\u001b[0m)                        │ (\u001b[38;5;34m1\u001b[0m, \u001b[38;5;34m64\u001b[0m)                     │          \u001b[38;5;34m33,024\u001b[0m │\n",
              "├──────────────────────────────────────┼─────────────────────────────┼─────────────────┤\n",
              "│ dense_6 (\u001b[38;5;33mDense\u001b[0m)                      │ (\u001b[38;5;34m1\u001b[0m, \u001b[38;5;34m20\u001b[0m)                     │           \u001b[38;5;34m1,300\u001b[0m │\n",
              "└──────────────────────────────────────┴─────────────────────────────┴─────────────────┘\n"
            ],
            "text/html": [
              "<pre style=\"white-space:pre;overflow-x:auto;line-height:normal;font-family:Menlo,'DejaVu Sans Mono',consolas,'Courier New',monospace\">┏━━━━━━━━━━━━━━━━━━━━━━━━━━━━━━━━━━━━━━┳━━━━━━━━━━━━━━━━━━━━━━━━━━━━━┳━━━━━━━━━━━━━━━━━┓\n",
              "┃<span style=\"font-weight: bold\"> Layer (type)                         </span>┃<span style=\"font-weight: bold\"> Output Shape                </span>┃<span style=\"font-weight: bold\">         Param # </span>┃\n",
              "┡━━━━━━━━━━━━━━━━━━━━━━━━━━━━━━━━━━━━━━╇━━━━━━━━━━━━━━━━━━━━━━━━━━━━━╇━━━━━━━━━━━━━━━━━┩\n",
              "│ embedding_6 (<span style=\"color: #0087ff; text-decoration-color: #0087ff\">Embedding</span>)              │ (<span style=\"color: #00af00; text-decoration-color: #00af00\">1</span>, <span style=\"color: #00af00; text-decoration-color: #00af00\">200</span>, <span style=\"color: #00af00; text-decoration-color: #00af00\">64</span>)                │         <span style=\"color: #00af00; text-decoration-color: #00af00\">640,000</span> │\n",
              "├──────────────────────────────────────┼─────────────────────────────┼─────────────────┤\n",
              "│ lstm_1 (<span style=\"color: #0087ff; text-decoration-color: #0087ff\">LSTM</span>)                        │ (<span style=\"color: #00af00; text-decoration-color: #00af00\">1</span>, <span style=\"color: #00af00; text-decoration-color: #00af00\">64</span>)                     │          <span style=\"color: #00af00; text-decoration-color: #00af00\">33,024</span> │\n",
              "├──────────────────────────────────────┼─────────────────────────────┼─────────────────┤\n",
              "│ dense_6 (<span style=\"color: #0087ff; text-decoration-color: #0087ff\">Dense</span>)                      │ (<span style=\"color: #00af00; text-decoration-color: #00af00\">1</span>, <span style=\"color: #00af00; text-decoration-color: #00af00\">20</span>)                     │           <span style=\"color: #00af00; text-decoration-color: #00af00\">1,300</span> │\n",
              "└──────────────────────────────────────┴─────────────────────────────┴─────────────────┘\n",
              "</pre>\n"
            ]
          },
          "metadata": {}
        },
        {
          "output_type": "display_data",
          "data": {
            "text/plain": [
              "\u001b[1m Total params: \u001b[0m\u001b[38;5;34m674,324\u001b[0m (2.57 MB)\n"
            ],
            "text/html": [
              "<pre style=\"white-space:pre;overflow-x:auto;line-height:normal;font-family:Menlo,'DejaVu Sans Mono',consolas,'Courier New',monospace\"><span style=\"font-weight: bold\"> Total params: </span><span style=\"color: #00af00; text-decoration-color: #00af00\">674,324</span> (2.57 MB)\n",
              "</pre>\n"
            ]
          },
          "metadata": {}
        },
        {
          "output_type": "display_data",
          "data": {
            "text/plain": [
              "\u001b[1m Trainable params: \u001b[0m\u001b[38;5;34m674,324\u001b[0m (2.57 MB)\n"
            ],
            "text/html": [
              "<pre style=\"white-space:pre;overflow-x:auto;line-height:normal;font-family:Menlo,'DejaVu Sans Mono',consolas,'Courier New',monospace\"><span style=\"font-weight: bold\"> Trainable params: </span><span style=\"color: #00af00; text-decoration-color: #00af00\">674,324</span> (2.57 MB)\n",
              "</pre>\n"
            ]
          },
          "metadata": {}
        },
        {
          "output_type": "display_data",
          "data": {
            "text/plain": [
              "\u001b[1m Non-trainable params: \u001b[0m\u001b[38;5;34m0\u001b[0m (0.00 B)\n"
            ],
            "text/html": [
              "<pre style=\"white-space:pre;overflow-x:auto;line-height:normal;font-family:Menlo,'DejaVu Sans Mono',consolas,'Courier New',monospace\"><span style=\"font-weight: bold\"> Non-trainable params: </span><span style=\"color: #00af00; text-decoration-color: #00af00\">0</span> (0.00 B)\n",
              "</pre>\n"
            ]
          },
          "metadata": {}
        }
      ],
      "source": [
        "# Build the LSTM model\n",
        "lstm_model = Sequential()\n",
        "lstm_model.add(Embedding(input_dim=10000, output_dim=64, input_length=200))\n",
        "lstm_model.add(LSTM(units=64, return_sequences=False))\n",
        "lstm_model.add(Dense(20, activation='softmax'))\n",
        "lstm_model.compile(optimizer='adam', loss='categorical_crossentropy', metrics=['accuracy'])\n",
        "sample_input = np.random.randint(10000, size=(1, 200))\n",
        "lstm_model(sample_input)\n",
        "lstm_model.summary()"
      ]
    },
    {
      "cell_type": "markdown",
      "id": "aa242b75",
      "metadata": {
        "id": "aa242b75"
      },
      "source": [
        "### Step 7: Train the LSTM Model"
      ]
    },
    {
      "cell_type": "code",
      "execution_count": 15,
      "id": "cfd0f492",
      "metadata": {
        "id": "cfd0f492",
        "outputId": "91b5c6fb-0692-4e8e-b7e7-49c6643f4dad",
        "colab": {
          "base_uri": "https://localhost:8080/"
        }
      },
      "outputs": [
        {
          "output_type": "stream",
          "name": "stdout",
          "text": [
            "Epoch 1/5\n",
            "\u001b[1m236/236\u001b[0m \u001b[32m━━━━━━━━━━━━━━━━━━━━\u001b[0m\u001b[37m\u001b[0m \u001b[1m37s\u001b[0m 149ms/step - accuracy: 0.1150 - loss: 2.8493 - val_accuracy: 0.1873 - val_loss: 2.4439\n",
            "Epoch 2/5\n",
            "\u001b[1m236/236\u001b[0m \u001b[32m━━━━━━━━━━━━━━━━━━━━\u001b[0m\u001b[37m\u001b[0m \u001b[1m34s\u001b[0m 142ms/step - accuracy: 0.3042 - loss: 2.1459 - val_accuracy: 0.3440 - val_loss: 2.0747\n",
            "Epoch 3/5\n",
            "\u001b[1m236/236\u001b[0m \u001b[32m━━━━━━━━━━━━━━━━━━━━\u001b[0m\u001b[37m\u001b[0m \u001b[1m43s\u001b[0m 150ms/step - accuracy: 0.4392 - loss: 1.8043 - val_accuracy: 0.4048 - val_loss: 1.7869\n",
            "Epoch 4/5\n",
            "\u001b[1m236/236\u001b[0m \u001b[32m━━━━━━━━━━━━━━━━━━━━\u001b[0m\u001b[37m\u001b[0m \u001b[1m33s\u001b[0m 141ms/step - accuracy: 0.5131 - loss: 1.5163 - val_accuracy: 0.4605 - val_loss: 1.6400\n",
            "Epoch 5/5\n",
            "\u001b[1m236/236\u001b[0m \u001b[32m━━━━━━━━━━━━━━━━━━━━\u001b[0m\u001b[37m\u001b[0m \u001b[1m43s\u001b[0m 148ms/step - accuracy: 0.6343 - loss: 1.1651 - val_accuracy: 0.5578 - val_loss: 1.3224\n"
          ]
        }
      ],
      "source": [
        "# Train the LSTM model\n",
        "history_lstm =  lstm_model.fit(X_train, y_train, epochs=5, batch_size=64, validation_data=(X_test, y_test))"
      ]
    },
    {
      "cell_type": "markdown",
      "id": "1583f324",
      "metadata": {
        "id": "1583f324"
      },
      "source": [
        "### Step 8: Evaluate the Models"
      ]
    },
    {
      "cell_type": "code",
      "execution_count": 16,
      "id": "838b1e90",
      "metadata": {
        "id": "838b1e90",
        "outputId": "8c652e33-0cf9-438b-f62a-b80630f2b7b8",
        "colab": {
          "base_uri": "https://localhost:8080/"
        }
      },
      "outputs": [
        {
          "output_type": "stream",
          "name": "stdout",
          "text": [
            "\u001b[1m118/118\u001b[0m \u001b[32m━━━━━━━━━━━━━━━━━━━━\u001b[0m\u001b[37m\u001b[0m \u001b[1m1s\u001b[0m 11ms/step - accuracy: 0.4300 - loss: 2.1866\n",
            "\u001b[1m118/118\u001b[0m \u001b[32m━━━━━━━━━━━━━━━━━━━━\u001b[0m\u001b[37m\u001b[0m \u001b[1m3s\u001b[0m 25ms/step - accuracy: 0.5500 - loss: 1.3524\n"
          ]
        }
      ],
      "source": [
        "# Evaluate the models\n",
        "rnn_eval = rnn_model.evaluate(X_test, y_test)\n",
        "lstm_eval = lstm_model.evaluate(X_test, y_test)"
      ]
    },
    {
      "cell_type": "markdown",
      "id": "97dfebf9",
      "metadata": {
        "id": "97dfebf9"
      },
      "source": [
        "### Step 9: Plot the Training and Validation Accuracy/Loss"
      ]
    },
    {
      "cell_type": "code",
      "execution_count": 17,
      "id": "672d62ac",
      "metadata": {
        "id": "672d62ac",
        "outputId": "7d82cd80-5222-4754-9c82-5d3e7ab0d645",
        "colab": {
          "base_uri": "https://localhost:8080/",
          "height": 472
        }
      },
      "outputs": [
        {
          "output_type": "display_data",
          "data": {
            "text/plain": [
              "<Figure size 640x480 with 1 Axes>"
            ],
            "image/png": "[encoded data removed]"
          },
          "metadata": {}
        }
      ],
      "source": [
        "plt.plot(history_rnn.history['accuracy'], label='RNN Training Accuracy')\n",
        "plt.plot(history_rnn.history['val_accuracy'], label='RNN Validation Accuracy')\n",
        "plt.plot(history_lstm.history['accuracy'], label='LSTM Training Accuracy')\n",
        "plt.plot(history_lstm.history['val_accuracy'], label='LSTM Validation Accuracy')\n",
        "plt.title('RNN vs LSTM Accuracy')\n",
        "plt.xlabel('Epochs')\n",
        "plt.ylabel('Accuracy')\n",
        "plt.legend()\n",
        "plt.show()"
      ]
    },
    {
      "cell_type": "markdown",
      "id": "c801c583",
      "metadata": {
        "id": "c801c583"
      },
      "source": [
        "### Step 10: Classify a Sample Text"
      ]
    },
    {
      "cell_type": "code",
      "execution_count": 24,
      "id": "1a613e1b",
      "metadata": {
        "id": "1a613e1b",
        "outputId": "a56786ff-9e0c-448f-acca-a6f249b815ee",
        "colab": {
          "base_uri": "https://localhost:8080/"
        }
      },
      "outputs": [
        {
          "output_type": "stream",
          "name": "stdout",
          "text": [
            "\u001b[1m1/1\u001b[0m \u001b[32m━━━━━━━━━━━━━━━━━━━━\u001b[0m\u001b[37m\u001b[0m \u001b[1m0s\u001b[0m 24ms/step\n",
            "RNN Model Prediction: talk.politics.misc\n",
            "\u001b[1m1/1\u001b[0m \u001b[32m━━━━━━━━━━━━━━━━━━━━\u001b[0m\u001b[37m\u001b[0m \u001b[1m0s\u001b[0m 25ms/step\n",
            "LSTM Model Prediction: rec.sport.hockey\n"
          ]
        }
      ],
      "source": [
        "def preprocess_sample_text(sample_text, tokenizer, max_length=200):\n",
        "    sequence = tokenizer.texts_to_sequences([sample_text])\n",
        "    padded_sequence = pad_sequences(sequence, maxlen=max_length)\n",
        "    return padded_sequence\n",
        "\n",
        "def classify_sample_text(model, sample_text, tokenizer, class_names):\n",
        "    preprocessed_text = preprocess_sample_text(sample_text, tokenizer)\n",
        "    prediction = model.predict(preprocessed_text)\n",
        "    predicted_class_idx = np.argmax(prediction, axis=1)[0]\n",
        "    predicted_class_name = class_names[predicted_class_idx]\n",
        "    return predicted_class_name\n",
        "\n",
        "class_names = newsgroups.target_names\n",
        "sample_text = \"The movie was terrible. The plot was confusing and the acting was bad. I would not recommend it to anyone.\"\n",
        "\n",
        "# Here is classify by the RNN model\n",
        "predicted_rnn_class = classify_sample_text(rnn_model, sample_text, tokenizer, class_names)\n",
        "print(f'RNN Model Prediction: {predicted_rnn_class}')\n",
        "\n",
        "# Here is classify by the LSTM model\n",
        "predicted_lstm_class = classify_sample_text(lstm_model, sample_text, tokenizer, class_names)\n",
        "print(f'LSTM Model Prediction: {predicted_lstm_class}')\n"
      ]
    },
    {
      "cell_type": "markdown",
      "source": [
        "#**Well done =)**"
      ],
      "metadata": {
        "id": "i2xRJx2pF9OX"
      },
      "id": "i2xRJx2pF9OX"
    }
  ],
  "metadata": {
    "colab": {
      "provenance": []
    },
    "language_info": {
      "name": "python"
    },
    "kernelspec": {
      "name": "python3",
      "display_name": "Python 3"
    }
  },
  "nbformat": 4,
  "nbformat_minor": 5
}
