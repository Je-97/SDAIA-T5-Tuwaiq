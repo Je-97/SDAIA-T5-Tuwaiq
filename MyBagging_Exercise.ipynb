{
 "cells": [
  {
   "cell_type": "markdown",
   "id": "9ae4cc02",
   "metadata": {},
   "source": [
    "# Bagging Exercise\n",
    "\n",
    "In this exercise, you will explore the concept of Bagging (Bootstrap Aggregating) and implement it using a random forest model. Bagging is an ensemble technique mainly used for reducing the variance of a predictive model and preventing overfitting. The main idea behind bagging is to combine multiple learners in a way that the ensemble model performs better than an individual model.\n",
    "\n",
    "## Dataset\n",
    "We will use the Iris dataset for this exercise. The Iris dataset is a classic dataset from the field of machine learning, containing measurements for iris flowers of three different species. **Feel free to use another dataset!!**\n",
    "\n",
    "## Task\n",
    "Your task is to:\n",
    "1. Load the dataset.\n",
    "2. Preprocess the data (if necessary).\n",
    "3. Implement Bagging models.\n",
    "4. Evaluate the models performance.\n",
    "\n",
    "Please fill in the following code blocks to complete the exercise.\n"
   ]
  },
  {
   "cell_type": "code",
   "execution_count": 31,
   "id": "cd906704",
   "metadata": {},
   "outputs": [],
   "source": [
    "import pandas as pd\n",
    "from sklearn.datasets import load_iris\n",
    "from sklearn.ensemble import RandomForestClassifier, BaggingClassifier\n",
    "from sklearn.model_selection import train_test_split\n",
    "from sklearn.metrics import accuracy_score\n",
    "from sklearn.neighbors import KNeighborsClassifier\n",
    "from sklearn.tree import DecisionTreeClassifier\n"
   ]
  },
  {
   "cell_type": "markdown",
   "id": "3bc0f20e",
   "metadata": {},
   "source": [
    "# Load the dataset\n"
   ]
  },
  {
   "cell_type": "code",
   "execution_count": 32,
   "id": "47ecb305",
   "metadata": {},
   "outputs": [],
   "source": [
    "iris = load_iris()\n",
    "X = pd.DataFrame(iris.data)\n",
    "y = pd.Series(iris.target)"
   ]
  },
  {
   "cell_type": "markdown",
   "id": "c0e69164",
   "metadata": {},
   "source": [
    "# Preprocess the data (if necessary)"
   ]
  },
  {
   "cell_type": "code",
   "execution_count": 33,
   "id": "2a8d11d3-81fc-43cb-a49e-cc997b7f5e3c",
   "metadata": {},
   "outputs": [
    {
     "data": {
      "text/plain": [
       "0    0\n",
       "1    0\n",
       "2    0\n",
       "3    0\n",
       "dtype: int64"
      ]
     },
     "execution_count": 33,
     "metadata": {},
     "output_type": "execute_result"
    }
   ],
   "source": [
    "X.isna().sum()"
   ]
  },
  {
   "cell_type": "code",
   "execution_count": 34,
   "id": "df1ee988-abe9-444b-942a-5ff284bac415",
   "metadata": {},
   "outputs": [
    {
     "data": {
      "text/plain": [
       "0"
      ]
     },
     "execution_count": 34,
     "metadata": {},
     "output_type": "execute_result"
    }
   ],
   "source": [
    "y.isna().sum()\n"
   ]
  },
  {
   "cell_type": "markdown",
   "id": "2104eb8e",
   "metadata": {},
   "source": [
    "# Split the Dataset"
   ]
  },
  {
   "cell_type": "code",
   "execution_count": 14,
   "id": "f3a3d4e9",
   "metadata": {},
   "outputs": [],
   "source": [
    "X_train, X_test, y_train, y_test = train_test_split(X, y, test_size=0.20, random_state=42)"
   ]
  },
  {
   "cell_type": "markdown",
   "id": "bdcb9a0a",
   "metadata": {},
   "source": [
    "# Initialize and Train the Classifiers"
   ]
  },
  {
   "cell_type": "code",
   "execution_count": 30,
   "id": "d3a43f7f",
   "metadata": {},
   "outputs": [
    {
     "name": "stdout",
     "output_type": "stream",
     "text": [
      "Bagging Classifier Model Accuracy: 100.00%\n"
     ]
    }
   ],
   "source": [
    "# Initialize base classifier and Bagging Meta-estimator\n",
    "base_estimator = KNeighborsClassifier()\n",
    "bagging_classifier = BaggingClassifier(base_estimator, n_estimators=50, random_state=42)\n",
    "\n",
    "# Train the classifier on the training data\n",
    "bagging_classifier.fit(X_train, y_train)\n",
    "\n",
    "# Make predictions on the test data\n",
    "predictions = bagging_classifier.predict(X_test)\n",
    "\n",
    "# Evaluate the model's accuracy\n",
    "accuracy = accuracy_score(y_test, predictions)\n",
    "print(f'Bagging Classifier Model Accuracy: {accuracy * 100:.2f}%')\n"
   ]
  },
  {
   "cell_type": "markdown",
   "id": "ea773220",
   "metadata": {},
   "source": [
    "## Random Forest\n",
    "Initialize and train a Random Forest classifier."
   ]
  },
  {
   "cell_type": "code",
   "execution_count": 35,
   "id": "3e29fd42",
   "metadata": {},
   "outputs": [],
   "source": [
    "rfc = RandomForestClassifier(n_estimators=50, random_state=42)\n",
    "\n",
    "rfc.fit(X_train, y_train) #train\n",
    "\n",
    "predic_y = rfc.predict(X_test) #predict\n"
   ]
  },
  {
   "cell_type": "markdown",
   "id": "fb3a2438",
   "metadata": {},
   "source": [
    "### Evaluate the model performance"
   ]
  },
  {
   "cell_type": "code",
   "execution_count": 36,
   "id": "38d965b4",
   "metadata": {},
   "outputs": [
    {
     "name": "stdout",
     "output_type": "stream",
     "text": [
      "Random Forest Model Accuracy: 100.00%\n"
     ]
    }
   ],
   "source": [
    "# Initialize and train the Random Forest classifier\n",
    "random_forest_classifier = RandomForestClassifier(n_estimators=50, random_state=42)\n",
    "random_forest_classifier.fit(X_train, y_train)\n",
    "\n",
    "# Make predictions on the test data\n",
    "predictions = random_forest_classifier.predict(X_test)\n",
    "\n",
    "# Evaluate the model's accuracy\n",
    "accuracy = accuracy_score(y_test, predictions)\n",
    "print(f'Random Forest Model Accuracy: {accuracy * 100:.2f}%')"
   ]
  },
  {
   "cell_type": "markdown",
   "id": "27ef4327",
   "metadata": {},
   "source": [
    "## Bagging Meta-estimator\n",
    "Initialize a K-Nearest Neighbors classifier and use it as the base estimator for the Bagging classifier."
   ]
  },
  {
   "cell_type": "code",
   "execution_count": 37,
   "id": "a66c94c7-5990-493f-a214-f56adef11248",
   "metadata": {},
   "outputs": [],
   "source": [
    "base_estimator = KNeighborsClassifier()\n",
    "bc = BaggingClassifier(base_estimator, n_estimators=50, random_state=42)\n",
    "\n",
    "bc.fit(X_train, y_train) #train\n",
    "\n",
    "#predict\n",
    "predic_y = bc.predict(X_test)\n"
   ]
  },
  {
   "cell_type": "markdown",
   "id": "1b8db1eb",
   "metadata": {},
   "source": [
    "### Evaluate the model performance"
   ]
  },
  {
   "cell_type": "code",
   "execution_count": 38,
   "id": "8697dc13",
   "metadata": {},
   "outputs": [
    {
     "name": "stdout",
     "output_type": "stream",
     "text": [
      "Bagging Classifier Model Accuracy: 100.00%\n"
     ]
    }
   ],
   "source": [
    "accuracy = accuracy_score(y_test, predic_y)\n",
    "print(f'Bagging Classifier Model Accuracy: {accuracy * 100:.2f}%')\n"
   ]
  },
  {
   "cell_type": "markdown",
   "id": "8768d05e",
   "metadata": {},
   "source": [
    "## Pasting\n",
    "Initialize a Decision Tree classifier and use it as the base estimator for a Bagging classifier with Pasting (without replacement)."
   ]
  },
  {
   "cell_type": "code",
   "execution_count": 39,
   "id": "2ee558a9",
   "metadata": {},
   "outputs": [],
   "source": [
    "base_estimator = DecisionTreeClassifier()\n",
    "pc = BaggingClassifier(base_estimator, n_estimators=50, max_samples=0.7, bootstrap=False, random_state=42)\n",
    "\n",
    "pc.fit(X_train, y_train)\n",
    "\n",
    "predict_y = pc.predict(X_test)"
   ]
  },
  {
   "cell_type": "markdown",
   "id": "4ff8b204",
   "metadata": {},
   "source": [
    "### Evaluate the model performance"
   ]
  },
  {
   "cell_type": "code",
   "execution_count": 40,
   "id": "2fd5abd3",
   "metadata": {},
   "outputs": [
    {
     "name": "stdout",
     "output_type": "stream",
     "text": [
      "Pasting Classifier Model Accuracy: 100.00%\n"
     ]
    }
   ],
   "source": [
    "accuracy = accuracy_score(y_test, predict_y)\n",
    "print(f'Pasting Classifier Model Accuracy: {accuracy * 100:.2f}%')\n"
   ]
  },
  {
   "cell_type": "markdown",
   "id": "1dcdb581",
   "metadata": {},
   "source": [
    "## Roughly Balanced Bagging (RBB)\n",
    "Implement Roughly Balanced Bagging by manually creating balanced bootstrap samples and aggregating predictions from multiple Decision Tree classifiers."
   ]
  },
  {
   "cell_type": "code",
   "execution_count": 43,
   "id": "21309157",
   "metadata": {},
   "outputs": [
    {
     "ename": "AttributeError",
     "evalue": "'numpy.ndarray' object has no attribute 'iloc'",
     "output_type": "error",
     "traceback": [
      "\u001b[1;31m---------------------------------------------------------------------------\u001b[0m",
      "\u001b[1;31mAttributeError\u001b[0m                            Traceback (most recent call last)",
      "Cell \u001b[1;32mIn[43], line 18\u001b[0m\n\u001b[0;32m     15\u001b[0m balanced_sample_indices \u001b[38;5;241m=\u001b[39m np\u001b[38;5;241m.\u001b[39mconcatenate([chosen_pos_indices, chosen_neg_indices])\n\u001b[0;32m     16\u001b[0m np\u001b[38;5;241m.\u001b[39mrandom\u001b[38;5;241m.\u001b[39mshuffle(balanced_sample_indices)\n\u001b[1;32m---> 18\u001b[0m X_train_balanced \u001b[38;5;241m=\u001b[39m X_train\u001b[38;5;241m.\u001b[39miloc[balanced_sample_indices]\n\u001b[0;32m     19\u001b[0m y_train_balanced \u001b[38;5;241m=\u001b[39m y_train\u001b[38;5;241m.\u001b[39miloc[balanced_sample_indices]\n\u001b[0;32m     21\u001b[0m tree_clf \u001b[38;5;241m=\u001b[39m DecisionTreeClassifier(random_state\u001b[38;5;241m=\u001b[39mi)\n",
      "\u001b[1;31mAttributeError\u001b[0m: 'numpy.ndarray' object has no attribute 'iloc'"
     ]
    }
   ],
   "source": [
    "import numpy as np\n",
    "\n",
    "n_estimators = 100\n",
    "\n",
    "ensemble_preds = np.zeros((n_estimators, len(X_test)))\n",
    "ensemble_models = []\n",
    "\n",
    "for i in range(n_estimators):\n",
    "    pos_indices = np.where(y_train == 1)[0]\n",
    "    neg_indices = np.where(y_train == 0)[0]\n",
    "\n",
    "    chosen_pos_indices = np.random.choice(pos_indices, size=len(pos_indices), replace=True)\n",
    "    chosen_neg_indices = np.random.choice(neg_indices, size=len(pos_indices), replace=True)\n",
    "\n",
    "    balanced_sample_indices = np.concatenate([chosen_pos_indices, chosen_neg_indices])\n",
    "    np.random.shuffle(balanced_sample_indices)\n",
    "\n",
    "    X_train_balanced = X_train.iloc[balanced_sample_indices]\n",
    "    y_train_balanced = y_train.iloc[balanced_sample_indices]\n",
    "\n",
    "    tree_clf = DecisionTreeClassifier(random_state=i)\n",
    "    tree_clf.fit(X_train_balanced, y_train_balanced)\n",
    "    ensemble_models.append(tree_clf)\n",
    "\n",
    "    ensemble_preds[i] = tree_clf.predict(X_test)\n",
    "\n",
    "final_preds = np.round(np.mean(ensemble_preds, axis=0))\n"
   ]
  },
  {
   "cell_type": "markdown",
   "id": "ee97138e",
   "metadata": {},
   "source": [
    "### Evaluate the model performance"
   ]
  },
  {
   "cell_type": "code",
   "execution_count": 42,
   "id": "c3726ae5",
   "metadata": {},
   "outputs": [
    {
     "ename": "NameError",
     "evalue": "name 'final_preds' is not defined",
     "output_type": "error",
     "traceback": [
      "\u001b[1;31m---------------------------------------------------------------------------\u001b[0m",
      "\u001b[1;31mNameError\u001b[0m                                 Traceback (most recent call last)",
      "Cell \u001b[1;32mIn[42], line 1\u001b[0m\n\u001b[1;32m----> 1\u001b[0m accuracy \u001b[38;5;241m=\u001b[39m accuracy_score(y_test, final_preds)\n\u001b[0;32m      2\u001b[0m \u001b[38;5;28mprint\u001b[39m(\u001b[38;5;124mf\u001b[39m\u001b[38;5;124m'\u001b[39m\u001b[38;5;124mRoughly Balanced Bagging Model Accuracy: \u001b[39m\u001b[38;5;132;01m{\u001b[39;00maccuracy\u001b[38;5;132;01m:\u001b[39;00m\u001b[38;5;124m.2f\u001b[39m\u001b[38;5;132;01m}\u001b[39;00m\u001b[38;5;124m'\u001b[39m)\n",
      "\u001b[1;31mNameError\u001b[0m: name 'final_preds' is not defined"
     ]
    }
   ],
   "source": [
    "accuracy = accuracy_score(y_test, final_preds)\n",
    "print(f'Roughly Balanced Bagging Model Accuracy: {accuracy:.2f}')\n"
   ]
  },
  {
   "cell_type": "code",
   "execution_count": null,
   "id": "17153a66-8f5f-4f46-b3eb-a43f28dc1d29",
   "metadata": {},
   "outputs": [],
   "source": []
  }
 ],
 "metadata": {
  "kernelspec": {
   "display_name": "Python 3 (ipykernel)",
   "language": "python",
   "name": "python3"
  },
  "language_info": {
   "codemirror_mode": {
    "name": "ipython",
    "version": 3
   },
   "file_extension": ".py",
   "mimetype": "text/x-python",
   "name": "python",
   "nbconvert_exporter": "python",
   "pygments_lexer": "ipython3",
   "version": "3.11.5"
  }
 },
 "nbformat": 4,
 "nbformat_minor": 5
}
