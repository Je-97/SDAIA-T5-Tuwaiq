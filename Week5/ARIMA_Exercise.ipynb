{
  "nbformat": 4,
  "nbformat_minor": 0,
  "metadata": {
    "colab": {
      "provenance": []
    },
    "kernelspec": {
      "name": "python3",
      "display_name": "Python 3"
    },
    "language_info": {
      "name": "python"
    }
  },
  "cells": [
    {
      "cell_type": "markdown",
      "source": [
        "#**Parameter Analysis for the ARIMA model**"
      ],
      "metadata": {
        "id": "JaxjdikNnjkf"
      }
    },
    {
      "cell_type": "markdown",
      "source": [
        "## Import the library\n"
      ],
      "metadata": {
        "id": "Bcg9HjA6npWd"
      }
    },
    {
      "cell_type": "code",
      "execution_count": 2,
      "metadata": {
        "id": "5c6uJIkGncuk"
      },
      "outputs": [],
      "source": [
        "%%capture\n",
        "# To install the library\n",
        "!pip install pmdarima\n",
        "\n",
        "# Import the library\n",
        "from pmdarima import auto_arima\n",
        "import pandas as pd\n",
        "\n",
        "\n",
        "# Ignore harmless warnings\n",
        "import warnings\n",
        "warnings.filterwarnings(\"ignore\")"
      ]
    },
    {
      "cell_type": "markdown",
      "source": [
        "## Read dataset"
      ],
      "metadata": {
        "id": "d4pFa8pkoErL"
      }
    },
    {
      "cell_type": "code",
      "source": [
        "df = pd.read_csv('traffic.csv')\n",
        "df.head()"
      ],
      "metadata": {
        "id": "7nA5jLRHoFCP",
        "outputId": "c0702612-9621-45da-b3e9-b17dacec5a1c",
        "colab": {
          "base_uri": "https://localhost:8080/",
          "height": 206
        }
      },
      "execution_count": 9,
      "outputs": [
        {
          "output_type": "execute_result",
          "data": {
            "text/plain": [
              "              DateTime  Junction  Vehicles            ID\n",
              "0  2015-11-01 00:00:00       1.0      15.0  2.015110e+10\n",
              "1  2015-11-01 01:00:00       1.0      13.0  2.015110e+10\n",
              "2  2015-11-01 02:00:00       1.0      10.0  2.015110e+10\n",
              "3  2015-11-01 03:00:00       1.0       7.0  2.015110e+10\n",
              "4  2015-11-01 04:00:00       1.0       9.0  2.015110e+10"
            ],
            "text/html": [
              "\n",
              "  <div id=\"df-2fd98dda-c056-4acd-99d3-5b43ceb7a094\" class=\"colab-df-container\">\n",
              "    <div>\n",
              "<style scoped>\n",
              "    .dataframe tbody tr th:only-of-type {\n",
              "        vertical-align: middle;\n",
              "    }\n",
              "\n",
              "    .dataframe tbody tr th {\n",
              "        vertical-align: top;\n",
              "    }\n",
              "\n",
              "    .dataframe thead th {\n",
              "        text-align: right;\n",
              "    }\n",
              "</style>\n",
              "<table border=\"1\" class=\"dataframe\">\n",
              "  <thead>\n",
              "    <tr style=\"text-align: right;\">\n",
              "      <th></th>\n",
              "      <th>DateTime</th>\n",
              "      <th>Junction</th>\n",
              "      <th>Vehicles</th>\n",
              "      <th>ID</th>\n",
              "    </tr>\n",
              "  </thead>\n",
              "  <tbody>\n",
              "    <tr>\n",
              "      <th>0</th>\n",
              "      <td>2015-11-01 00:00:00</td>\n",
              "      <td>1.0</td>\n",
              "      <td>15.0</td>\n",
              "      <td>2.015110e+10</td>\n",
              "    </tr>\n",
              "    <tr>\n",
              "      <th>1</th>\n",
              "      <td>2015-11-01 01:00:00</td>\n",
              "      <td>1.0</td>\n",
              "      <td>13.0</td>\n",
              "      <td>2.015110e+10</td>\n",
              "    </tr>\n",
              "    <tr>\n",
              "      <th>2</th>\n",
              "      <td>2015-11-01 02:00:00</td>\n",
              "      <td>1.0</td>\n",
              "      <td>10.0</td>\n",
              "      <td>2.015110e+10</td>\n",
              "    </tr>\n",
              "    <tr>\n",
              "      <th>3</th>\n",
              "      <td>2015-11-01 03:00:00</td>\n",
              "      <td>1.0</td>\n",
              "      <td>7.0</td>\n",
              "      <td>2.015110e+10</td>\n",
              "    </tr>\n",
              "    <tr>\n",
              "      <th>4</th>\n",
              "      <td>2015-11-01 04:00:00</td>\n",
              "      <td>1.0</td>\n",
              "      <td>9.0</td>\n",
              "      <td>2.015110e+10</td>\n",
              "    </tr>\n",
              "  </tbody>\n",
              "</table>\n",
              "</div>\n",
              "    <div class=\"colab-df-buttons\">\n",
              "\n",
              "  <div class=\"colab-df-container\">\n",
              "    <button class=\"colab-df-convert\" onclick=\"convertToInteractive('df-2fd98dda-c056-4acd-99d3-5b43ceb7a094')\"\n",
              "            title=\"Convert this dataframe to an interactive table.\"\n",
              "            style=\"display:none;\">\n",
              "\n",
              "  <svg xmlns=\"http://www.w3.org/2000/svg\" height=\"24px\" viewBox=\"0 -960 960 960\">\n",
              "    <path d=\"M120-120v-720h720v720H120Zm60-500h600v-160H180v160Zm220 220h160v-160H400v160Zm0 220h160v-160H400v160ZM180-400h160v-160H180v160Zm440 0h160v-160H620v160ZM180-180h160v-160H180v160Zm440 0h160v-160H620v160Z\"/>\n",
              "  </svg>\n",
              "    </button>\n",
              "\n",
              "  <style>\n",
              "    .colab-df-container {\n",
              "      display:flex;\n",
              "      gap: 12px;\n",
              "    }\n",
              "\n",
              "    .colab-df-convert {\n",
              "      background-color: #E8F0FE;\n",
              "      border: none;\n",
              "      border-radius: 50%;\n",
              "      cursor: pointer;\n",
              "      display: none;\n",
              "      fill: #1967D2;\n",
              "      height: 32px;\n",
              "      padding: 0 0 0 0;\n",
              "      width: 32px;\n",
              "    }\n",
              "\n",
              "    .colab-df-convert:hover {\n",
              "      background-color: #E2EBFA;\n",
              "      box-shadow: 0px 1px 2px rgba(60, 64, 67, 0.3), 0px 1px 3px 1px rgba(60, 64, 67, 0.15);\n",
              "      fill: #174EA6;\n",
              "    }\n",
              "\n",
              "    .colab-df-buttons div {\n",
              "      margin-bottom: 4px;\n",
              "    }\n",
              "\n",
              "    [theme=dark] .colab-df-convert {\n",
              "      background-color: #3B4455;\n",
              "      fill: #D2E3FC;\n",
              "    }\n",
              "\n",
              "    [theme=dark] .colab-df-convert:hover {\n",
              "      background-color: #434B5C;\n",
              "      box-shadow: 0px 1px 3px 1px rgba(0, 0, 0, 0.15);\n",
              "      filter: drop-shadow(0px 1px 2px rgba(0, 0, 0, 0.3));\n",
              "      fill: #FFFFFF;\n",
              "    }\n",
              "  </style>\n",
              "\n",
              "    <script>\n",
              "      const buttonEl =\n",
              "        document.querySelector('#df-2fd98dda-c056-4acd-99d3-5b43ceb7a094 button.colab-df-convert');\n",
              "      buttonEl.style.display =\n",
              "        google.colab.kernel.accessAllowed ? 'block' : 'none';\n",
              "\n",
              "      async function convertToInteractive(key) {\n",
              "        const element = document.querySelector('#df-2fd98dda-c056-4acd-99d3-5b43ceb7a094');\n",
              "        const dataTable =\n",
              "          await google.colab.kernel.invokeFunction('convertToInteractive',\n",
              "                                                    [key], {});\n",
              "        if (!dataTable) return;\n",
              "\n",
              "        const docLinkHtml = 'Like what you see? Visit the ' +\n",
              "          '<a target=\"_blank\" href=https://colab.research.google.com/notebooks/data_table.ipynb>data table notebook</a>'\n",
              "          + ' to learn more about interactive tables.';\n",
              "        element.innerHTML = '';\n",
              "        dataTable['output_type'] = 'display_data';\n",
              "        await google.colab.output.renderOutput(dataTable, element);\n",
              "        const docLink = document.createElement('div');\n",
              "        docLink.innerHTML = docLinkHtml;\n",
              "        element.appendChild(docLink);\n",
              "      }\n",
              "    </script>\n",
              "  </div>\n",
              "\n",
              "\n",
              "<div id=\"df-19f5bb95-b924-48f1-9d64-9035c8bc8e98\">\n",
              "  <button class=\"colab-df-quickchart\" onclick=\"quickchart('df-19f5bb95-b924-48f1-9d64-9035c8bc8e98')\"\n",
              "            title=\"Suggest charts\"\n",
              "            style=\"display:none;\">\n",
              "\n",
              "<svg xmlns=\"http://www.w3.org/2000/svg\" height=\"24px\"viewBox=\"0 0 24 24\"\n",
              "     width=\"24px\">\n",
              "    <g>\n",
              "        <path d=\"M19 3H5c-1.1 0-2 .9-2 2v14c0 1.1.9 2 2 2h14c1.1 0 2-.9 2-2V5c0-1.1-.9-2-2-2zM9 17H7v-7h2v7zm4 0h-2V7h2v10zm4 0h-2v-4h2v4z\"/>\n",
              "    </g>\n",
              "</svg>\n",
              "  </button>\n",
              "\n",
              "<style>\n",
              "  .colab-df-quickchart {\n",
              "      --bg-color: #E8F0FE;\n",
              "      --fill-color: #1967D2;\n",
              "      --hover-bg-color: #E2EBFA;\n",
              "      --hover-fill-color: #174EA6;\n",
              "      --disabled-fill-color: #AAA;\n",
              "      --disabled-bg-color: #DDD;\n",
              "  }\n",
              "\n",
              "  [theme=dark] .colab-df-quickchart {\n",
              "      --bg-color: #3B4455;\n",
              "      --fill-color: #D2E3FC;\n",
              "      --hover-bg-color: #434B5C;\n",
              "      --hover-fill-color: #FFFFFF;\n",
              "      --disabled-bg-color: #3B4455;\n",
              "      --disabled-fill-color: #666;\n",
              "  }\n",
              "\n",
              "  .colab-df-quickchart {\n",
              "    background-color: var(--bg-color);\n",
              "    border: none;\n",
              "    border-radius: 50%;\n",
              "    cursor: pointer;\n",
              "    display: none;\n",
              "    fill: var(--fill-color);\n",
              "    height: 32px;\n",
              "    padding: 0;\n",
              "    width: 32px;\n",
              "  }\n",
              "\n",
              "  .colab-df-quickchart:hover {\n",
              "    background-color: var(--hover-bg-color);\n",
              "    box-shadow: 0 1px 2px rgba(60, 64, 67, 0.3), 0 1px 3px 1px rgba(60, 64, 67, 0.15);\n",
              "    fill: var(--button-hover-fill-color);\n",
              "  }\n",
              "\n",
              "  .colab-df-quickchart-complete:disabled,\n",
              "  .colab-df-quickchart-complete:disabled:hover {\n",
              "    background-color: var(--disabled-bg-color);\n",
              "    fill: var(--disabled-fill-color);\n",
              "    box-shadow: none;\n",
              "  }\n",
              "\n",
              "  .colab-df-spinner {\n",
              "    border: 2px solid var(--fill-color);\n",
              "    border-color: transparent;\n",
              "    border-bottom-color: var(--fill-color);\n",
              "    animation:\n",
              "      spin 1s steps(1) infinite;\n",
              "  }\n",
              "\n",
              "  @keyframes spin {\n",
              "    0% {\n",
              "      border-color: transparent;\n",
              "      border-bottom-color: var(--fill-color);\n",
              "      border-left-color: var(--fill-color);\n",
              "    }\n",
              "    20% {\n",
              "      border-color: transparent;\n",
              "      border-left-color: var(--fill-color);\n",
              "      border-top-color: var(--fill-color);\n",
              "    }\n",
              "    30% {\n",
              "      border-color: transparent;\n",
              "      border-left-color: var(--fill-color);\n",
              "      border-top-color: var(--fill-color);\n",
              "      border-right-color: var(--fill-color);\n",
              "    }\n",
              "    40% {\n",
              "      border-color: transparent;\n",
              "      border-right-color: var(--fill-color);\n",
              "      border-top-color: var(--fill-color);\n",
              "    }\n",
              "    60% {\n",
              "      border-color: transparent;\n",
              "      border-right-color: var(--fill-color);\n",
              "    }\n",
              "    80% {\n",
              "      border-color: transparent;\n",
              "      border-right-color: var(--fill-color);\n",
              "      border-bottom-color: var(--fill-color);\n",
              "    }\n",
              "    90% {\n",
              "      border-color: transparent;\n",
              "      border-bottom-color: var(--fill-color);\n",
              "    }\n",
              "  }\n",
              "</style>\n",
              "\n",
              "  <script>\n",
              "    async function quickchart(key) {\n",
              "      const quickchartButtonEl =\n",
              "        document.querySelector('#' + key + ' button');\n",
              "      quickchartButtonEl.disabled = true;  // To prevent multiple clicks.\n",
              "      quickchartButtonEl.classList.add('colab-df-spinner');\n",
              "      try {\n",
              "        const charts = await google.colab.kernel.invokeFunction(\n",
              "            'suggestCharts', [key], {});\n",
              "      } catch (error) {\n",
              "        console.error('Error during call to suggestCharts:', error);\n",
              "      }\n",
              "      quickchartButtonEl.classList.remove('colab-df-spinner');\n",
              "      quickchartButtonEl.classList.add('colab-df-quickchart-complete');\n",
              "    }\n",
              "    (() => {\n",
              "      let quickchartButtonEl =\n",
              "        document.querySelector('#df-19f5bb95-b924-48f1-9d64-9035c8bc8e98 button');\n",
              "      quickchartButtonEl.style.display =\n",
              "        google.colab.kernel.accessAllowed ? 'block' : 'none';\n",
              "    })();\n",
              "  </script>\n",
              "</div>\n",
              "\n",
              "    </div>\n",
              "  </div>\n"
            ],
            "application/vnd.google.colaboratory.intrinsic+json": {
              "type": "dataframe",
              "variable_name": "df",
              "summary": "{\n  \"name\": \"df\",\n  \"rows\": 28446,\n  \"fields\": [\n    {\n      \"column\": \"DateTime\",\n      \"properties\": {\n        \"dtype\": \"object\",\n        \"num_unique_values\": 14592,\n        \"samples\": [\n          \"2016-05-13 20:00:00\",\n          \"2016-11-03 20:00:00\",\n          \"2015-12-08 19:00:00\"\n        ],\n        \"semantic_type\": \"\",\n        \"description\": \"\"\n      }\n    },\n    {\n      \"column\": \"Junction\",\n      \"properties\": {\n        \"dtype\": \"number\",\n        \"std\": 0.49984001807560835,\n        \"min\": 1.0,\n        \"max\": 2.0,\n        \"num_unique_values\": 2,\n        \"samples\": [\n          2.0,\n          1.0\n        ],\n        \"semantic_type\": \"\",\n        \"description\": \"\"\n      }\n    },\n    {\n      \"column\": \"Vehicles\",\n      \"properties\": {\n        \"dtype\": \"number\",\n        \"std\": 23.240121391595885,\n        \"min\": 1.0,\n        \"max\": 156.0,\n        \"num_unique_values\": 137,\n        \"samples\": [\n          156.0,\n          141.0\n        ],\n        \"semantic_type\": \"\",\n        \"description\": \"\"\n      }\n    },\n    {\n      \"column\": \"ID\",\n      \"properties\": {\n        \"dtype\": \"number\",\n        \"std\": 5706077.175206935,\n        \"min\": 20151101001.0,\n        \"max\": 20170630231.0,\n        \"num_unique_values\": 28445,\n        \"samples\": [\n          20151226062.0,\n          20151105001.0\n        ],\n        \"semantic_type\": \"\",\n        \"description\": \"\"\n      }\n    }\n  ]\n}"
            }
          },
          "metadata": {},
          "execution_count": 9
        }
      ]
    },
    {
      "cell_type": "code",
      "source": [
        "df.drop('ID', axis=1, inplace=True)"
      ],
      "metadata": {
        "id": "90UlVTP-2_QD"
      },
      "execution_count": 10,
      "outputs": []
    },
    {
      "cell_type": "markdown",
      "source": [
        "Spilt the Data"
      ],
      "metadata": {
        "id": "FI5Q0Sx45bok"
      }
    },
    {
      "cell_type": "code",
      "source": [
        "df = df.iloc[0:100]"
      ],
      "metadata": {
        "id": "4h23Jr8e-adY"
      },
      "execution_count": 11,
      "outputs": []
    },
    {
      "cell_type": "markdown",
      "source": [
        "## Fit auto_arima function to AirPassengers dataset\n"
      ],
      "metadata": {
        "id": "-tuW0NLNnway"
      }
    },
    {
      "cell_type": "code",
      "source": [
        "stepwise_fit = auto_arima(df['Vehicles'], start_p = 1, start_q = 1,\n",
        "                          max_p = 2, max_q = 2, m = 6,\n",
        "                          start_P = 0, seasonal = True,\n",
        "                          d = None, D = 1, trace = True,\n",
        "                          error_action ='ignore',   # we don't want to know if an order does not work\n",
        "                          suppress_warnings = True,  # we don't want convergence warnings\n",
        "                          stepwise = True)           # set to stepwise\n",
        "\n"
      ],
      "metadata": {
        "id": "cz9vW3-InvlO",
        "outputId": "9ed5200e-8bca-47d8-f7c1-ddaa9c508b7a",
        "colab": {
          "base_uri": "https://localhost:8080/"
        }
      },
      "execution_count": 12,
      "outputs": [
        {
          "output_type": "stream",
          "name": "stdout",
          "text": [
            "Performing stepwise search to minimize aic\n",
            " ARIMA(1,0,1)(0,1,1)[6] intercept   : AIC=inf, Time=1.96 sec\n",
            " ARIMA(0,0,0)(0,1,0)[6] intercept   : AIC=696.649, Time=0.05 sec\n",
            " ARIMA(1,0,0)(1,1,0)[6] intercept   : AIC=555.759, Time=0.28 sec\n",
            " ARIMA(0,0,1)(0,1,1)[6] intercept   : AIC=inf, Time=1.82 sec\n",
            " ARIMA(0,0,0)(0,1,0)[6]             : AIC=695.061, Time=0.02 sec\n",
            " ARIMA(1,0,0)(0,1,0)[6] intercept   : AIC=592.215, Time=0.04 sec\n",
            " ARIMA(1,0,0)(2,1,0)[6] intercept   : AIC=555.515, Time=0.28 sec\n",
            " ARIMA(1,0,0)(2,1,1)[6] intercept   : AIC=inf, Time=1.11 sec\n",
            " ARIMA(1,0,0)(1,1,1)[6] intercept   : AIC=inf, Time=0.46 sec\n",
            " ARIMA(0,0,0)(2,1,0)[6] intercept   : AIC=674.661, Time=0.24 sec\n",
            " ARIMA(2,0,0)(2,1,0)[6] intercept   : AIC=555.992, Time=0.33 sec\n",
            " ARIMA(1,0,1)(2,1,0)[6] intercept   : AIC=556.393, Time=0.29 sec\n",
            " ARIMA(0,0,1)(2,1,0)[6] intercept   : AIC=606.563, Time=0.30 sec\n",
            " ARIMA(2,0,1)(2,1,0)[6] intercept   : AIC=inf, Time=0.87 sec\n",
            " ARIMA(1,0,0)(2,1,0)[6]             : AIC=553.523, Time=0.15 sec\n",
            " ARIMA(1,0,0)(1,1,0)[6]             : AIC=553.759, Time=0.06 sec\n",
            " ARIMA(1,0,0)(2,1,1)[6]             : AIC=inf, Time=0.63 sec\n",
            " ARIMA(1,0,0)(1,1,1)[6]             : AIC=inf, Time=0.37 sec\n",
            " ARIMA(0,0,0)(2,1,0)[6]             : AIC=675.099, Time=0.08 sec\n",
            " ARIMA(2,0,0)(2,1,0)[6]             : AIC=554.013, Time=0.17 sec\n",
            " ARIMA(1,0,1)(2,1,0)[6]             : AIC=554.409, Time=0.18 sec\n",
            " ARIMA(0,0,1)(2,1,0)[6]             : AIC=605.850, Time=0.18 sec\n",
            " ARIMA(2,0,1)(2,1,0)[6]             : AIC=inf, Time=0.69 sec\n",
            "\n",
            "Best model:  ARIMA(1,0,0)(2,1,0)[6]          \n",
            "Total fit time: 10.620 seconds\n"
          ]
        }
      ]
    },
    {
      "cell_type": "markdown",
      "source": [
        "## To print the summary\n"
      ],
      "metadata": {
        "id": "-U8yqyxaoSzI"
      }
    },
    {
      "cell_type": "code",
      "source": [
        "stepwise_fit.summary()"
      ],
      "metadata": {
        "id": "VVL7KDMXn9QC",
        "outputId": "3edfbd5d-a371-4f6c-a0cf-b9b670cb1604",
        "colab": {
          "base_uri": "https://localhost:8080/",
          "height": 452
        }
      },
      "execution_count": 13,
      "outputs": [
        {
          "output_type": "execute_result",
          "data": {
            "text/plain": [
              "<class 'statsmodels.iolib.summary.Summary'>\n",
              "\"\"\"\n",
              "                                     SARIMAX Results                                     \n",
              "=========================================================================================\n",
              "Dep. Variable:                                 y   No. Observations:                  100\n",
              "Model:             SARIMAX(1, 0, 0)x(2, 1, 0, 6)   Log Likelihood                -272.762\n",
              "Date:                           Wed, 21 Aug 2024   AIC                            553.523\n",
              "Time:                                   16:47:57   BIC                            563.696\n",
              "Sample:                                        0   HQIC                           557.632\n",
              "                                           - 100                                         \n",
              "Covariance Type:                             opg                                         \n",
              "==============================================================================\n",
              "                 coef    std err          z      P>|z|      [0.025      0.975]\n",
              "------------------------------------------------------------------------------\n",
              "ar.L1          0.8769      0.052     16.719      0.000       0.774       0.980\n",
              "ar.S.L6       -0.6766      0.127     -5.345      0.000      -0.925      -0.429\n",
              "ar.S.L12      -0.1567      0.117     -1.335      0.182      -0.387       0.073\n",
              "sigma2        18.6579      2.758      6.765      0.000      13.252      24.063\n",
              "===================================================================================\n",
              "Ljung-Box (L1) (Q):                   1.23   Jarque-Bera (JB):                 3.63\n",
              "Prob(Q):                              0.27   Prob(JB):                         0.16\n",
              "Heteroskedasticity (H):               1.34   Skew:                             0.47\n",
              "Prob(H) (two-sided):                  0.42   Kurtosis:                         3.21\n",
              "===================================================================================\n",
              "\n",
              "Warnings:\n",
              "[1] Covariance matrix calculated using the outer product of gradients (complex-step).\n",
              "\"\"\""
            ],
            "text/html": [
              "<table class=\"simpletable\">\n",
              "<caption>SARIMAX Results</caption>\n",
              "<tr>\n",
              "  <th>Dep. Variable:</th>                 <td>y</td>               <th>  No. Observations:  </th>    <td>100</td>  \n",
              "</tr>\n",
              "<tr>\n",
              "  <th>Model:</th>           <td>SARIMAX(1, 0, 0)x(2, 1, 0, 6)</td> <th>  Log Likelihood     </th> <td>-272.762</td>\n",
              "</tr>\n",
              "<tr>\n",
              "  <th>Date:</th>                  <td>Wed, 21 Aug 2024</td>        <th>  AIC                </th>  <td>553.523</td>\n",
              "</tr>\n",
              "<tr>\n",
              "  <th>Time:</th>                      <td>16:47:57</td>            <th>  BIC                </th>  <td>563.696</td>\n",
              "</tr>\n",
              "<tr>\n",
              "  <th>Sample:</th>                        <td>0</td>               <th>  HQIC               </th>  <td>557.632</td>\n",
              "</tr>\n",
              "<tr>\n",
              "  <th></th>                            <td> - 100</td>             <th>                     </th>     <td> </td>   \n",
              "</tr>\n",
              "<tr>\n",
              "  <th>Covariance Type:</th>              <td>opg</td>              <th>                     </th>     <td> </td>   \n",
              "</tr>\n",
              "</table>\n",
              "<table class=\"simpletable\">\n",
              "<tr>\n",
              "      <td></td>        <th>coef</th>     <th>std err</th>      <th>z</th>      <th>P>|z|</th>  <th>[0.025</th>    <th>0.975]</th>  \n",
              "</tr>\n",
              "<tr>\n",
              "  <th>ar.L1</th>    <td>    0.8769</td> <td>    0.052</td> <td>   16.719</td> <td> 0.000</td> <td>    0.774</td> <td>    0.980</td>\n",
              "</tr>\n",
              "<tr>\n",
              "  <th>ar.S.L6</th>  <td>   -0.6766</td> <td>    0.127</td> <td>   -5.345</td> <td> 0.000</td> <td>   -0.925</td> <td>   -0.429</td>\n",
              "</tr>\n",
              "<tr>\n",
              "  <th>ar.S.L12</th> <td>   -0.1567</td> <td>    0.117</td> <td>   -1.335</td> <td> 0.182</td> <td>   -0.387</td> <td>    0.073</td>\n",
              "</tr>\n",
              "<tr>\n",
              "  <th>sigma2</th>   <td>   18.6579</td> <td>    2.758</td> <td>    6.765</td> <td> 0.000</td> <td>   13.252</td> <td>   24.063</td>\n",
              "</tr>\n",
              "</table>\n",
              "<table class=\"simpletable\">\n",
              "<tr>\n",
              "  <th>Ljung-Box (L1) (Q):</th>     <td>1.23</td> <th>  Jarque-Bera (JB):  </th> <td>3.63</td>\n",
              "</tr>\n",
              "<tr>\n",
              "  <th>Prob(Q):</th>                <td>0.27</td> <th>  Prob(JB):          </th> <td>0.16</td>\n",
              "</tr>\n",
              "<tr>\n",
              "  <th>Heteroskedasticity (H):</th> <td>1.34</td> <th>  Skew:              </th> <td>0.47</td>\n",
              "</tr>\n",
              "<tr>\n",
              "  <th>Prob(H) (two-sided):</th>    <td>0.42</td> <th>  Kurtosis:          </th> <td>3.21</td>\n",
              "</tr>\n",
              "</table><br/><br/>Warnings:<br/>[1] Covariance matrix calculated using the outer product of gradients (complex-step)."
            ],
            "text/latex": "\\begin{center}\n\\begin{tabular}{lclc}\n\\toprule\n\\textbf{Dep. Variable:}          &               y               & \\textbf{  No. Observations:  } &    100      \\\\\n\\textbf{Model:}                  & SARIMAX(1, 0, 0)x(2, 1, 0, 6) & \\textbf{  Log Likelihood     } &  -272.762   \\\\\n\\textbf{Date:}                   &        Wed, 21 Aug 2024       & \\textbf{  AIC                } &  553.523    \\\\\n\\textbf{Time:}                   &            16:47:57           & \\textbf{  BIC                } &  563.696    \\\\\n\\textbf{Sample:}                 &               0               & \\textbf{  HQIC               } &  557.632    \\\\\n\\textbf{}                        &              - 100            & \\textbf{                     } &             \\\\\n\\textbf{Covariance Type:}        &              opg              & \\textbf{                     } &             \\\\\n\\bottomrule\n\\end{tabular}\n\\begin{tabular}{lcccccc}\n                  & \\textbf{coef} & \\textbf{std err} & \\textbf{z} & \\textbf{P$> |$z$|$} & \\textbf{[0.025} & \\textbf{0.975]}  \\\\\n\\midrule\n\\textbf{ar.L1}    &       0.8769  &        0.052     &    16.719  &         0.000        &        0.774    &        0.980     \\\\\n\\textbf{ar.S.L6}  &      -0.6766  &        0.127     &    -5.345  &         0.000        &       -0.925    &       -0.429     \\\\\n\\textbf{ar.S.L12} &      -0.1567  &        0.117     &    -1.335  &         0.182        &       -0.387    &        0.073     \\\\\n\\textbf{sigma2}   &      18.6579  &        2.758     &     6.765  &         0.000        &       13.252    &       24.063     \\\\\n\\bottomrule\n\\end{tabular}\n\\begin{tabular}{lclc}\n\\textbf{Ljung-Box (L1) (Q):}     & 1.23 & \\textbf{  Jarque-Bera (JB):  } & 3.63  \\\\\n\\textbf{Prob(Q):}                & 0.27 & \\textbf{  Prob(JB):          } & 0.16  \\\\\n\\textbf{Heteroskedasticity (H):} & 1.34 & \\textbf{  Skew:              } & 0.47  \\\\\n\\textbf{Prob(H) (two-sided):}    & 0.42 & \\textbf{  Kurtosis:          } & 3.21  \\\\\n\\bottomrule\n\\end{tabular}\n%\\caption{SARIMAX Results}\n\\end{center}\n\nWarnings: \\newline\n [1] Covariance matrix calculated using the outer product of gradients (complex-step)."
          },
          "metadata": {},
          "execution_count": 13
        }
      ]
    },
    {
      "cell_type": "markdown",
      "source": [
        "# Fit ARIMA Model"
      ],
      "metadata": {
        "id": "gmAEP7Ccof7D"
      }
    },
    {
      "cell_type": "markdown",
      "source": [
        "## Split data into train / test sets\n"
      ],
      "metadata": {
        "id": "TKR8rs8nonFv"
      }
    },
    {
      "cell_type": "code",
      "source": [
        "train = df.iloc[:len(df)-12]\n",
        "test = df.iloc[len(df)-12:] # set one year(12 months) for testing\n"
      ],
      "metadata": {
        "id": "zrfME6QNooRy"
      },
      "execution_count": 14,
      "outputs": []
    },
    {
      "cell_type": "markdown",
      "source": [
        "## Fit a SARIMAX(0, 1, 1)x(2, 1, 1, 12) on the training set\n"
      ],
      "metadata": {
        "id": "4RA4GFRTozIX"
      }
    },
    {
      "cell_type": "code",
      "source": [
        "from statsmodels.tsa.statespace.sarimax import SARIMAX\n",
        "\n",
        "model = SARIMAX(train['Vehicles'],\n",
        "                order = (0, 1, 1),\n",
        "                seasonal_order =(2, 1, 1, 12))\n",
        "\n",
        "result = model.fit()\n",
        "result.summary()\n",
        ""
      ],
      "metadata": {
        "id": "lCbS2KMPoXQO",
        "outputId": "7f4d7cb4-b8a1-4b98-896f-79b94651dbbb",
        "colab": {
          "base_uri": "https://localhost:8080/",
          "height": 473
        }
      },
      "execution_count": 15,
      "outputs": [
        {
          "output_type": "execute_result",
          "data": {
            "text/plain": [
              "<class 'statsmodels.iolib.summary.Summary'>\n",
              "\"\"\"\n",
              "                                     SARIMAX Results                                      \n",
              "==========================================================================================\n",
              "Dep. Variable:                           Vehicles   No. Observations:                   88\n",
              "Model:             SARIMAX(0, 1, 1)x(2, 1, 1, 12)   Log Likelihood                -202.483\n",
              "Date:                            Wed, 21 Aug 2024   AIC                            414.967\n",
              "Time:                                    16:47:59   BIC                            426.554\n",
              "Sample:                                         0   HQIC                           419.594\n",
              "                                             - 88                                         \n",
              "Covariance Type:                              opg                                         \n",
              "==============================================================================\n",
              "                 coef    std err          z      P>|z|      [0.025      0.975]\n",
              "------------------------------------------------------------------------------\n",
              "ma.L1         -0.1855      0.116     -1.605      0.108      -0.412       0.041\n",
              "ar.S.L12      -0.1799      0.376     -0.478      0.633      -0.918       0.558\n",
              "ar.S.L24       0.2725      0.332      0.821      0.411      -0.378       0.923\n",
              "ma.S.L12      -0.9993    137.618     -0.007      0.994    -270.726     268.727\n",
              "sigma2         9.2516   1270.522      0.007      0.994   -2480.926    2499.429\n",
              "===================================================================================\n",
              "Ljung-Box (L1) (Q):                   0.01   Jarque-Bera (JB):                 1.72\n",
              "Prob(Q):                              0.92   Prob(JB):                         0.42\n",
              "Heteroskedasticity (H):               0.82   Skew:                             0.37\n",
              "Prob(H) (two-sided):                  0.63   Kurtosis:                         3.07\n",
              "===================================================================================\n",
              "\n",
              "Warnings:\n",
              "[1] Covariance matrix calculated using the outer product of gradients (complex-step).\n",
              "\"\"\""
            ],
            "text/html": [
              "<table class=\"simpletable\">\n",
              "<caption>SARIMAX Results</caption>\n",
              "<tr>\n",
              "  <th>Dep. Variable:</th>              <td>Vehicles</td>            <th>  No. Observations:  </th>    <td>88</td>   \n",
              "</tr>\n",
              "<tr>\n",
              "  <th>Model:</th>           <td>SARIMAX(0, 1, 1)x(2, 1, 1, 12)</td> <th>  Log Likelihood     </th> <td>-202.483</td>\n",
              "</tr>\n",
              "<tr>\n",
              "  <th>Date:</th>                   <td>Wed, 21 Aug 2024</td>        <th>  AIC                </th>  <td>414.967</td>\n",
              "</tr>\n",
              "<tr>\n",
              "  <th>Time:</th>                       <td>16:47:59</td>            <th>  BIC                </th>  <td>426.554</td>\n",
              "</tr>\n",
              "<tr>\n",
              "  <th>Sample:</th>                         <td>0</td>               <th>  HQIC               </th>  <td>419.594</td>\n",
              "</tr>\n",
              "<tr>\n",
              "  <th></th>                              <td> - 88</td>             <th>                     </th>     <td> </td>   \n",
              "</tr>\n",
              "<tr>\n",
              "  <th>Covariance Type:</th>               <td>opg</td>              <th>                     </th>     <td> </td>   \n",
              "</tr>\n",
              "</table>\n",
              "<table class=\"simpletable\">\n",
              "<tr>\n",
              "      <td></td>        <th>coef</th>     <th>std err</th>      <th>z</th>      <th>P>|z|</th>  <th>[0.025</th>    <th>0.975]</th>  \n",
              "</tr>\n",
              "<tr>\n",
              "  <th>ma.L1</th>    <td>   -0.1855</td> <td>    0.116</td> <td>   -1.605</td> <td> 0.108</td> <td>   -0.412</td> <td>    0.041</td>\n",
              "</tr>\n",
              "<tr>\n",
              "  <th>ar.S.L12</th> <td>   -0.1799</td> <td>    0.376</td> <td>   -0.478</td> <td> 0.633</td> <td>   -0.918</td> <td>    0.558</td>\n",
              "</tr>\n",
              "<tr>\n",
              "  <th>ar.S.L24</th> <td>    0.2725</td> <td>    0.332</td> <td>    0.821</td> <td> 0.411</td> <td>   -0.378</td> <td>    0.923</td>\n",
              "</tr>\n",
              "<tr>\n",
              "  <th>ma.S.L12</th> <td>   -0.9993</td> <td>  137.618</td> <td>   -0.007</td> <td> 0.994</td> <td> -270.726</td> <td>  268.727</td>\n",
              "</tr>\n",
              "<tr>\n",
              "  <th>sigma2</th>   <td>    9.2516</td> <td> 1270.522</td> <td>    0.007</td> <td> 0.994</td> <td>-2480.926</td> <td> 2499.429</td>\n",
              "</tr>\n",
              "</table>\n",
              "<table class=\"simpletable\">\n",
              "<tr>\n",
              "  <th>Ljung-Box (L1) (Q):</th>     <td>0.01</td> <th>  Jarque-Bera (JB):  </th> <td>1.72</td>\n",
              "</tr>\n",
              "<tr>\n",
              "  <th>Prob(Q):</th>                <td>0.92</td> <th>  Prob(JB):          </th> <td>0.42</td>\n",
              "</tr>\n",
              "<tr>\n",
              "  <th>Heteroskedasticity (H):</th> <td>0.82</td> <th>  Skew:              </th> <td>0.37</td>\n",
              "</tr>\n",
              "<tr>\n",
              "  <th>Prob(H) (two-sided):</th>    <td>0.63</td> <th>  Kurtosis:          </th> <td>3.07</td>\n",
              "</tr>\n",
              "</table><br/><br/>Warnings:<br/>[1] Covariance matrix calculated using the outer product of gradients (complex-step)."
            ],
            "text/latex": "\\begin{center}\n\\begin{tabular}{lclc}\n\\toprule\n\\textbf{Dep. Variable:}          &            Vehicles            & \\textbf{  No. Observations:  } &     88      \\\\\n\\textbf{Model:}                  & SARIMAX(0, 1, 1)x(2, 1, 1, 12) & \\textbf{  Log Likelihood     } &  -202.483   \\\\\n\\textbf{Date:}                   &        Wed, 21 Aug 2024        & \\textbf{  AIC                } &  414.967    \\\\\n\\textbf{Time:}                   &            16:47:59            & \\textbf{  BIC                } &  426.554    \\\\\n\\textbf{Sample:}                 &               0                & \\textbf{  HQIC               } &  419.594    \\\\\n\\textbf{}                        &              - 88              & \\textbf{                     } &             \\\\\n\\textbf{Covariance Type:}        &              opg               & \\textbf{                     } &             \\\\\n\\bottomrule\n\\end{tabular}\n\\begin{tabular}{lcccccc}\n                  & \\textbf{coef} & \\textbf{std err} & \\textbf{z} & \\textbf{P$> |$z$|$} & \\textbf{[0.025} & \\textbf{0.975]}  \\\\\n\\midrule\n\\textbf{ma.L1}    &      -0.1855  &        0.116     &    -1.605  &         0.108        &       -0.412    &        0.041     \\\\\n\\textbf{ar.S.L12} &      -0.1799  &        0.376     &    -0.478  &         0.633        &       -0.918    &        0.558     \\\\\n\\textbf{ar.S.L24} &       0.2725  &        0.332     &     0.821  &         0.411        &       -0.378    &        0.923     \\\\\n\\textbf{ma.S.L12} &      -0.9993  &      137.618     &    -0.007  &         0.994        &     -270.726    &      268.727     \\\\\n\\textbf{sigma2}   &       9.2516  &     1270.522     &     0.007  &         0.994        &    -2480.926    &     2499.429     \\\\\n\\bottomrule\n\\end{tabular}\n\\begin{tabular}{lclc}\n\\textbf{Ljung-Box (L1) (Q):}     & 0.01 & \\textbf{  Jarque-Bera (JB):  } & 1.72  \\\\\n\\textbf{Prob(Q):}                & 0.92 & \\textbf{  Prob(JB):          } & 0.42  \\\\\n\\textbf{Heteroskedasticity (H):} & 0.82 & \\textbf{  Skew:              } & 0.37  \\\\\n\\textbf{Prob(H) (two-sided):}    & 0.63 & \\textbf{  Kurtosis:          } & 3.07  \\\\\n\\bottomrule\n\\end{tabular}\n%\\caption{SARIMAX Results}\n\\end{center}\n\nWarnings: \\newline\n [1] Covariance matrix calculated using the outer product of gradients (complex-step)."
          },
          "metadata": {},
          "execution_count": 15
        }
      ]
    },
    {
      "cell_type": "markdown",
      "source": [
        "## Predictions of ARIMA Model against the test set"
      ],
      "metadata": {
        "id": "_5Lr8auSo_1S"
      }
    },
    {
      "cell_type": "code",
      "source": [
        "start = len(train)\n",
        "end = len(train) + len(test) - 1\n",
        "\n",
        "# Predictions for one-year against the test set\n",
        "predictions = result.predict(start, end,\n",
        "                             typ = 'levels').rename(\"Predictions\")"
      ],
      "metadata": {
        "id": "YwOKVP13o376"
      },
      "execution_count": 21,
      "outputs": []
    },
    {
      "cell_type": "markdown",
      "source": [
        "## plot predictions and actual values\n",
        "\n"
      ],
      "metadata": {
        "id": "p0kqVgrJpEl2"
      }
    },
    {
      "cell_type": "code",
      "source": [
        "predictions.plot(legend = True)\n",
        "test['Vehicles'].plot(legend = True)"
      ],
      "metadata": {
        "id": "whB0gEkNpLMA",
        "outputId": "654741c1-bbaa-4d7b-dc16-cba1c8a16c4c",
        "colab": {
          "base_uri": "https://localhost:8080/",
          "height": 447
        }
      },
      "execution_count": 22,
      "outputs": [
        {
          "output_type": "execute_result",
          "data": {
            "text/plain": [
              "<Axes: >"
            ]
          },
          "metadata": {},
          "execution_count": 22
        },
        {
          "output_type": "display_data",
          "data": {
            "text/plain": [
              "<Figure size 640x480 with 1 Axes>"
            ],
            "image/png": "[encoded data removed]"
          },
          "metadata": {}
        }
      ]
    },
    {
      "cell_type": "markdown",
      "source": [
        "## Evaluate the model using MSE and RMSE"
      ],
      "metadata": {
        "id": "yQzbOm5NpQr_"
      }
    },
    {
      "cell_type": "code",
      "source": [
        "# Load specific evaluation tools\n",
        "from sklearn.metrics import mean_squared_error\n",
        "from statsmodels.tools.eval_measures import rmse\n",
        "\n",
        "# Calculate root mean squared error\n",
        "rmse(test[\"Vehicles\"], predictions)\n",
        "\n",
        "# Calculate mean squared error\n",
        "mean_squared_error(test[\"Vehicles\"], predictions)"
      ],
      "metadata": {
        "id": "JKFO1OIlpLby",
        "outputId": "5447ee69-3bdd-4b75-c7e9-257fd97de4c0",
        "colab": {
          "base_uri": "https://localhost:8080/"
        }
      },
      "execution_count": 23,
      "outputs": [
        {
          "output_type": "execute_result",
          "data": {
            "text/plain": [
              "18.165803087875414"
            ]
          },
          "metadata": {},
          "execution_count": 23
        }
      ]
    },
    {
      "cell_type": "markdown",
      "source": [
        "#**Well Done :)**"
      ],
      "metadata": {
        "id": "vNa2uJ9FpYI7"
      }
    }
  ]
}