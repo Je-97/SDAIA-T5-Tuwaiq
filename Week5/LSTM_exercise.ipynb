{
  "nbformat": 4,
  "nbformat_minor": 0,
  "metadata": {
    "colab": {
      "provenance": []
    },
    "kernelspec": {
      "name": "python3",
      "display_name": "Python 3"
    },
    "language_info": {
      "name": "python"
    }
  },
  "cells": [
    {
      "cell_type": "markdown",
      "source": [
        "# **LSTM Exercise**"
      ],
      "metadata": {
        "id": "DeDMU8rGJtM7"
      }
    },
    {
      "cell_type": "markdown",
      "source": [
        "## Import libraries"
      ],
      "metadata": {
        "id": "73pucHkDJoyN"
      }
    },
    {
      "cell_type": "code",
      "execution_count": 29,
      "metadata": {
        "id": "W3AjCzdQJmSK"
      },
      "outputs": [],
      "source": [
        "import numpy as np\n",
        "import matplotlib.pyplot as plt\n",
        "import pandas as pd\n",
        "import tensorflow as tf\n",
        "from tensorflow.keras.models import Sequential\n",
        "from tensorflow.keras.layers import Dense\n",
        "from tensorflow.keras.layers import LSTM\n",
        "from sklearn.preprocessing import MinMaxScaler\n",
        "from sklearn.metrics import mean_squared_error\n",
        "import warnings\n",
        "warnings.filterwarnings('ignore')"
      ]
    },
    {
      "cell_type": "markdown",
      "source": [
        "## load the dataset\n",
        "### Dataset path : 5- Time series forecasting/2-2- Time Series Forecasting (LSTM and GRU)\n",
        "/ LAB/Dataset/traffic.csv\n"
      ],
      "metadata": {
        "id": "91J8oMpJKYkO"
      }
    },
    {
      "cell_type": "code",
      "source": [
        "# Fix random seed for reproducibility\n",
        "tf.random.set_seed(7)"
      ],
      "metadata": {
        "id": "kQEm9VeUqhbe"
      },
      "execution_count": 82,
      "outputs": []
    },
    {
      "cell_type": "code",
      "source": [
        "# Load and preprocess data\n",
        "dataset = pd.read_csv('traffic.csv', index_col='DateTime', parse_dates=True)"
      ],
      "metadata": {
        "id": "Cyx1SwgJJ8Y9"
      },
      "execution_count": 83,
      "outputs": []
    },
    {
      "cell_type": "code",
      "source": [
        "# Scale features\n",
        "scaler = MinMaxScaler(feature_range=(0, 1))\n",
        "dataset[['Vehicles']] = scaler.fit_transform(dataset[['Vehicles']])\n",
        "dataset[['Junction']] = scaler.fit_transform(dataset[['Junction']])"
      ],
      "metadata": {
        "id": "W-AvTcFIS30Y"
      },
      "execution_count": 84,
      "outputs": []
    },
    {
      "cell_type": "markdown",
      "source": [
        "## Normalize the dataset"
      ],
      "metadata": {
        "id": "i7yyKGkVKi88"
      }
    },
    {
      "cell_type": "code",
      "source": [
        "df.info()"
      ],
      "metadata": {
        "id": "s4zdFM5x0zc7",
        "outputId": "435fc7e3-e080-412d-95d5-9734855704d5",
        "colab": {
          "base_uri": "https://localhost:8080/"
        }
      },
      "execution_count": 54,
      "outputs": [
        {
          "output_type": "stream",
          "name": "stdout",
          "text": [
            "<class 'pandas.core.frame.DataFrame'>\n",
            "RangeIndex: 48120 entries, 0 to 48119\n",
            "Data columns (total 5 columns):\n",
            " #   Column            Non-Null Count  Dtype         \n",
            "---  ------            --------------  -----         \n",
            " 0   DateTime          48120 non-null  datetime64[ns]\n",
            " 1   Junction          48120 non-null  int64         \n",
            " 2   Vehicles          48120 non-null  int64         \n",
            " 3   ID                48120 non-null  int64         \n",
            " 4   DateTime_Numeric  48120 non-null  float64       \n",
            "dtypes: datetime64[ns](1), float64(1), int64(3)\n",
            "memory usage: 1.8 MB\n"
          ]
        }
      ]
    },
    {
      "cell_type": "markdown",
      "source": [
        "## split into train and test sets"
      ],
      "metadata": {
        "id": "GV-4d-zxKvJI"
      }
    },
    {
      "source": [
        "# Split into train and test sets\n",
        "train_size = int(len(dataset) * 0.67)\n",
        "test_size = len(dataset) - train_size\n",
        "train, test = dataset.iloc[0:train_size], dataset[train_size:len(dataset)]\n",
        "print(len(train), len(test))"
      ],
      "cell_type": "code",
      "metadata": {
        "id": "xvqn-O2ftZGa",
        "outputId": "ff41c6a9-1839-48a7-ff3f-b6b64f9562a6",
        "colab": {
          "base_uri": "https://localhost:8080/"
        }
      },
      "execution_count": 86,
      "outputs": [
        {
          "output_type": "stream",
          "name": "stdout",
          "text": [
            "32240 15880\n"
          ]
        }
      ]
    },
    {
      "source": [
        "# Create dataset with look_back\n",
        "def create_dataset(dataset, look_back=1):\n",
        "    dataX, dataY = [], []\n",
        "    for i in range(len(dataset) - look_back):\n",
        "        a = dataset.iloc[i:(i + look_back)].values\n",
        "        dataX.append(a)\n",
        "        dataY.append(dataset.iloc[i + look_back, 1])\n",
        "    return np.array(dataX), np.array(dataY)"
      ],
      "cell_type": "code",
      "metadata": {
        "id": "4-imwDHqwN3f"
      },
      "execution_count": 87,
      "outputs": []
    },
    {
      "cell_type": "code",
      "source": [
        "look_back = 1\n",
        "trainX, trainY = create_dataset(train, look_back)\n",
        "testX, testY = create_dataset(test, look_back)"
      ],
      "metadata": {
        "id": "zHYo6wN3v4KQ"
      },
      "execution_count": 88,
      "outputs": []
    },
    {
      "cell_type": "code",
      "source": [
        "# reshape input to be [samples, time steps, features]\n",
        "trainX = np.reshape(trainX, (trainX.shape[0], 1, trainX.shape[1]))\n",
        "testX = np.reshape(testX, (testX.shape[0], 1, testX.shape[1]))"
      ],
      "metadata": {
        "id": "h25JswhgwWmR"
      },
      "execution_count": 59,
      "outputs": []
    },
    {
      "cell_type": "code",
      "source": [
        "# Reshape input to be [samples, time steps, features]\n",
        "trainX = np.reshape(trainX, (trainX.shape[0], trainX.shape[1], trainX.shape[2]))\n",
        "testX = np.reshape(testX, (testX.shape[0], testX.shape[1], testX.shape[2]))"
      ],
      "metadata": {
        "id": "_J0sAX-dtwZQ"
      },
      "execution_count": 89,
      "outputs": []
    },
    {
      "cell_type": "markdown",
      "source": [
        "## Fit the LSTM"
      ],
      "metadata": {
        "id": "Enlx1TQhLcp5"
      }
    },
    {
      "cell_type": "code",
      "source": [
        "# Define and fit the model\n",
        "model = Sequential()\n",
        "model.add(LSTM(4, input_shape=(look_back , trainX.shape[2])))\n",
        "model.add(Dense(1))"
      ],
      "metadata": {
        "id": "tKTnFm3lLcIj"
      },
      "execution_count": 90,
      "outputs": []
    },
    {
      "cell_type": "code",
      "source": [
        "model.compile(loss='mean_squared_error', optimizer='adam')"
      ],
      "metadata": {
        "id": "cDZ_bE2VTlPR"
      },
      "execution_count": 91,
      "outputs": []
    },
    {
      "cell_type": "code",
      "source": [
        "model.fit(trainX, trainY, epochs=20, batch_size=32, verbose=2, shuffle=False)"
      ],
      "metadata": {
        "id": "KmoGYIa3Tkle",
        "outputId": "8ea377e6-d727-414d-fc15-2121167538a7",
        "colab": {
          "base_uri": "https://localhost:8080/"
        }
      },
      "execution_count": 92,
      "outputs": [
        {
          "output_type": "stream",
          "name": "stdout",
          "text": [
            "Epoch 1/20\n",
            "1008/1008 - 4s - 4ms/step - loss: 0.0086\n",
            "Epoch 2/20\n",
            "1008/1008 - 2s - 2ms/step - loss: 0.0083\n",
            "Epoch 3/20\n",
            "1008/1008 - 4s - 4ms/step - loss: 0.0082\n",
            "Epoch 4/20\n",
            "1008/1008 - 4s - 4ms/step - loss: 0.0082\n",
            "Epoch 5/20\n",
            "1008/1008 - 2s - 2ms/step - loss: 0.0082\n",
            "Epoch 6/20\n",
            "1008/1008 - 3s - 3ms/step - loss: 0.0082\n",
            "Epoch 7/20\n",
            "1008/1008 - 3s - 3ms/step - loss: 0.0082\n",
            "Epoch 8/20\n",
            "1008/1008 - 3s - 3ms/step - loss: 0.0082\n",
            "Epoch 9/20\n",
            "1008/1008 - 4s - 4ms/step - loss: 0.0082\n",
            "Epoch 10/20\n",
            "1008/1008 - 2s - 2ms/step - loss: 0.0082\n",
            "Epoch 11/20\n",
            "1008/1008 - 2s - 2ms/step - loss: 0.0082\n",
            "Epoch 12/20\n",
            "1008/1008 - 3s - 3ms/step - loss: 0.0082\n",
            "Epoch 13/20\n",
            "1008/1008 - 3s - 3ms/step - loss: 0.0082\n",
            "Epoch 14/20\n",
            "1008/1008 - 4s - 4ms/step - loss: 0.0082\n",
            "Epoch 15/20\n",
            "1008/1008 - 3s - 3ms/step - loss: 0.0082\n",
            "Epoch 16/20\n",
            "1008/1008 - 3s - 3ms/step - loss: 0.0082\n",
            "Epoch 17/20\n",
            "1008/1008 - 5s - 5ms/step - loss: 0.0082\n",
            "Epoch 18/20\n",
            "1008/1008 - 2s - 2ms/step - loss: 0.0082\n",
            "Epoch 19/20\n",
            "1008/1008 - 3s - 3ms/step - loss: 0.0082\n",
            "Epoch 20/20\n",
            "1008/1008 - 2s - 2ms/step - loss: 0.0082\n"
          ]
        },
        {
          "output_type": "execute_result",
          "data": {
            "text/plain": [
              "<keras.src.callbacks.history.History at 0x7feadbc7d030>"
            ]
          },
          "metadata": {},
          "execution_count": 92
        }
      ]
    },
    {
      "cell_type": "markdown",
      "source": [
        "## Make preductuion and evaluatuin matrix."
      ],
      "metadata": {
        "id": "NwP_TpFfL7nA"
      }
    },
    {
      "cell_type": "code",
      "source": [
        "# Make predictions\n",
        "trainPredict = model.predict(trainX)\n",
        "testPredict = model.predict(testX)"
      ],
      "metadata": {
        "id": "4lEgbNGULrbv",
        "outputId": "070479f9-6420-4dbf-a2a3-10794be3f3d9",
        "colab": {
          "base_uri": "https://localhost:8080/"
        }
      },
      "execution_count": 94,
      "outputs": [
        {
          "output_type": "stream",
          "name": "stdout",
          "text": [
            "\u001b[1m1008/1008\u001b[0m \u001b[32m━━━━━━━━━━━━━━━━━━━━\u001b[0m\u001b[37m\u001b[0m \u001b[1m1s\u001b[0m 1ms/step\n",
            "\u001b[1m497/497\u001b[0m \u001b[32m━━━━━━━━━━━━━━━━━━━━\u001b[0m\u001b[37m\u001b[0m \u001b[1m1s\u001b[0m 1ms/step\n"
          ]
        }
      ]
    },
    {
      "cell_type": "code",
      "source": [
        "# Invert predictions\n",
        "trainPredict = scaler.inverse_transform(trainPredict)\n",
        "trainY = scaler.inverse_transform(trainY.reshape(-1, 1))\n",
        "testPredict = scaler.inverse_transform(testPredict)\n",
        "testY = scaler.inverse_transform(testY.reshape(-1, 1))\n",
        "\n",
        "# Calculate root mean squared error\n",
        "trainScore = np.sqrt(mean_squared_error(trainY, trainPredict))\n",
        "print('Train Score: %.2f RMSE' % (trainScore))\n",
        "testScore = np.sqrt(mean_squared_error(testY, testPredict))\n",
        "print('Test Score: %.2f RMSE' % (testScore))"
      ],
      "metadata": {
        "id": "eVDdLfr-A4Ta",
        "outputId": "ae7d7de8-c969-45ba-b002-a30988b1259f",
        "colab": {
          "base_uri": "https://localhost:8080/"
        }
      },
      "execution_count": 95,
      "outputs": [
        {
          "output_type": "stream",
          "name": "stdout",
          "text": [
            "Train Score: 0.48 RMSE\n",
            "Test Score: 0.17 RMSE\n"
          ]
        }
      ]
    },
    {
      "cell_type": "markdown",
      "source": [
        "## Visualize the result"
      ],
      "metadata": {
        "id": "ZpkMef5uMULa"
      }
    },
    {
      "cell_type": "code",
      "source": [
        "# Shift train predictions for plotting\n",
        "trainPredictPlot = np.empty_like(dataset)\n",
        "trainPredictPlot[:, :] = np.nan\n",
        "trainPredictPlot[look_back:len(trainPredict) + look_back, 0] = trainPredict[:, 0]\n",
        "\n",
        "# Shift test predictions for plotting\n",
        "testPredictPlot = np.empty_like(dataset)\n",
        "testPredictPlot[:, :] = np.nan\n",
        "testPredictPlot[len(trainPredict) + (look_back * 2):, 0] = testPredict[:, 0]\n",
        "\n",
        "# Plot baseline and predictions\n",
        "plt.plot(scaler.inverse_transform(dataset)[:, 0], label='Actual Data')\n",
        "plt.plot(trainPredictPlot[:, 0], label='Train Predictions')\n",
        "plt.plot(testPredictPlot[:, 0], label='Test Predictions')\n",
        "plt.xlabel('DateTime')\n",
        "plt.ylabel('Vehicles')\n",
        "plt.legend()\n",
        "plt.show()"
      ],
      "metadata": {
        "id": "B1T1VicEMXC_",
        "outputId": "36bb6bd6-25cc-4484-a53d-7fb71f2b53b8",
        "colab": {
          "base_uri": "https://localhost:8080/",
          "height": 449
        }
      },
      "execution_count": 104,
      "outputs": [
        {
          "output_type": "display_data",
          "data": {
            "text/plain": [
              "<Figure size 640x480 with 1 Axes>"
            ],
            "image/png": "[encoded data removed]"
          },
          "metadata": {}
        }
      ]
    },
    {
      "cell_type": "markdown",
      "source": [
        "# **Well done** :)"
      ],
      "metadata": {
        "id": "_80frLg-MENd"
      }
    }
  ]
}